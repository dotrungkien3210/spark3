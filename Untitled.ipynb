{
 "cells": [
  {
   "cell_type": "code",
   "execution_count": 1,
   "metadata": {},
   "outputs": [
    {
     "name": "stdout",
     "output_type": "stream",
     "text": [
      "3.7.1\n"
     ]
    }
   ],
   "source": [
    "from platform import python_version\n",
    "print(python_version())"
   ]
  },
  {
   "cell_type": "code",
   "execution_count": 4,
   "metadata": {},
   "outputs": [
    {
     "name": "stdout",
     "output_type": "stream",
     "text": [
      "3.7.1\n"
     ]
    }
   ],
   "source": [
    "from platform import python_version\n",
    "print(python_version())"
   ]
  },
  {
   "cell_type": "code",
   "execution_count": 6,
   "metadata": {},
   "outputs": [
    {
     "name": "stdout",
     "output_type": "stream",
     "text": [
      "['alabaster==0.7.12', 'anaconda-client==1.7.2', 'anaconda-navigator==1.9.6', 'anaconda-project==0.8.2', 'asn1crypto==0.24.0', 'astroid==2.1.0', 'astropy==3.1', 'atomicwrites==1.2.1', 'attrs==18.2.0', 'babel==2.6.0']\n"
     ]
    }
   ],
   "source": [
    "import pip._internal.operations.freeze\n",
    "_ = pip._internal.operations.freeze.get_installed_distributions()\n",
    "print(sorted([\"%s==%s\" % (i.key, i.version) for i in _])[:10])"
   ]
  },
  {
   "cell_type": "code",
   "execution_count": null,
   "metadata": {},
   "outputs": [],
   "source": [
    "import pip._internal.operations.freeze\n",
    "_ = pip._internal.operations.freeze.get_installed_distributions()\n",
    "print(sorted([\"%s==%s\" % (i.key, i.version) for i in _])[:10])"
   ]
  }
 ],
 "metadata": {
  "kernelspec": {
   "display_name": "Python 3",
   "language": "python",
   "name": "python3"
  },
  "language_info": {
   "codemirror_mode": {
    "name": "ipython",
    "version": 3
   },
   "file_extension": ".py",
   "mimetype": "text/x-python",
   "name": "python",
   "nbconvert_exporter": "python",
   "pygments_lexer": "ipython3",
   "version": "3.7.1"
  }
 },
 "nbformat": 4,
 "nbformat_minor": 2
}
