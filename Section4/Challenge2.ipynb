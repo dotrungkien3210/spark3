{
 "cells": [
  {
   "cell_type": "code",
   "execution_count": 1,
   "metadata": {},
   "outputs": [],
   "source": [
    "from pyspark.sql import SparkSession\n",
    "from pyspark.sql.types import StructType,StructField,StringType"
   ]
  },
  {
   "cell_type": "code",
   "execution_count": 2,
   "metadata": {},
   "outputs": [],
   "source": [
    "spark = (SparkSession.builder.appName(\"Challenge 2\").getOrCreate())"
   ]
  },
  {
   "cell_type": "markdown",
   "metadata": {},
   "source": [
    "### tại sao khi load ta lại để hết StringType \n",
    "#### Vì rất có thể dữ liệu đang bị sai mà load vào sẽ không nhận và bị lỗi trong khi load\n",
    "#### trong khi đó stringtype nhận mọi loại dữ liệu, ta có thể load vào và xử lý từ từ"
   ]
  },
  {
   "cell_type": "code",
   "execution_count": 3,
   "metadata": {},
   "outputs": [],
   "source": [
    "sale_df = StructType([\n",
    "    StructField(\"Order ID\",StringType(),True),\n",
    "    StructField(\"Product\",StringType(),True),\n",
    "    StructField(\"Quantity\",StringType(),True),\n",
    "    StructField(\"Price\",StringType(),True),\n",
    "    StructField(\"Order Date\",StringType(),True),\n",
    "    StructField(\"Address\",StringType(),True)\n",
    "])"
   ]
  },
  {
   "cell_type": "code",
   "execution_count": 4,
   "metadata": {},
   "outputs": [
    {
     "name": "stdout",
     "output_type": "stream",
     "text": [
      "+--------+--------------------+--------+------+--------------+--------------------+\n",
      "|Order ID|             Product|Quantity| Price|    Order Date|             Address|\n",
      "+--------+--------------------+--------+------+--------------+--------------------+\n",
      "|  295665|  Macbook Pro Laptop|       1|  1700|12/30/19 00:01|136 Church St, Ne...|\n",
      "|  295666|  LG Washing Machine|       1| 600.0|12/29/19 07:03|562 2nd St, New Y...|\n",
      "|  295667|USB-C Charging Cable|       1| 11.95|12/12/19 18:21|277 Main St, New ...|\n",
      "|  295668|    27in FHD Monitor|       1|149.99|12/22/19 15:13|410 6th St, San F...|\n",
      "|  295669|USB-C Charging Cable|       1| 11.95|12/18/19 12:38|43 Hill St, Atlan...|\n",
      "|  295670|AA Batteries (4-p...|       1|  3.84|12/31/19 22:58|200 Jefferson St,...|\n",
      "|  295671|USB-C Charging Cable|       1| 11.95|12/16/19 15:10|928 12th St, Port...|\n",
      "|  295672|USB-C Charging Cable|       2| 11.95|12/13/19 09:29|813 Hickory St, D...|\n",
      "|  295673|Bose SoundSport H...|       1| 99.99|12/15/19 23:26|718 Wilson St, Da...|\n",
      "|  295674|AAA Batteries (4-...|       4|  2.99|12/28/19 11:51|77 7th St, Dallas...|\n",
      "+--------+--------------------+--------+------+--------------+--------------------+\n",
      "only showing top 10 rows\n",
      "\n"
     ]
    }
   ],
   "source": [
    "sale_path = \"salesdata\"\n",
    "sale_df = (spark.read.format(\"csv\")\n",
    "          .option(\"header\",True)\n",
    "          .schema(sale_df)\n",
    "          .load(sale_path))\n",
    "sale_df.show(10)"
   ]
  },
  {
   "cell_type": "code",
   "execution_count": 5,
   "metadata": {},
   "outputs": [],
   "source": [
    "from pyspark.sql.functions import col"
   ]
  },
  {
   "cell_type": "code",
   "execution_count": 6,
   "metadata": {},
   "outputs": [
    {
     "name": "stdout",
     "output_type": "stream",
     "text": [
      "+--------+-------+----------------+----------+----------+----------------+\n",
      "|Order ID|Product|        Quantity|     Price|Order Date|         Address|\n",
      "+--------+-------+----------------+----------+----------+----------------+\n",
      "|Order ID|Product|Quantity Ordered|Price Each|Order Date|Purchase Address|\n",
      "|Order ID|Product|Quantity Ordered|Price Each|Order Date|Purchase Address|\n",
      "|Order ID|Product|Quantity Ordered|Price Each|Order Date|Purchase Address|\n",
      "|Order ID|Product|Quantity Ordered|Price Each|Order Date|Purchase Address|\n",
      "|Order ID|Product|Quantity Ordered|Price Each|Order Date|Purchase Address|\n",
      "|Order ID|Product|Quantity Ordered|Price Each|Order Date|Purchase Address|\n",
      "|Order ID|Product|Quantity Ordered|Price Each|Order Date|Purchase Address|\n",
      "|Order ID|Product|Quantity Ordered|Price Each|Order Date|Purchase Address|\n",
      "|Order ID|Product|Quantity Ordered|Price Each|Order Date|Purchase Address|\n",
      "|Order ID|Product|Quantity Ordered|Price Each|Order Date|Purchase Address|\n",
      "+--------+-------+----------------+----------+----------+----------------+\n",
      "only showing top 10 rows\n",
      "\n"
     ]
    }
   ],
   "source": [
    "sale_df.filter(col(\"Order ID\") == \"Order ID\").show(10)"
   ]
  },
  {
   "cell_type": "markdown",
   "metadata": {},
   "source": [
    "### Xoá các hàng bị null và sai\n",
    "#### bây giờ ta sẽ thực hiện xoá các cột bị null \n",
    "#### tiếp theo sẽ xoá các cột có giá trị không mong muốn như sai type, sai kiểu dữ liệu"
   ]
  },
  {
   "cell_type": "code",
   "execution_count": 7,
   "metadata": {},
   "outputs": [
    {
     "name": "stdout",
     "output_type": "stream",
     "text": [
      "+--------+-------+--------+-----+----------+-------+\n",
      "|Order ID|Product|Quantity|Price|Order Date|Address|\n",
      "+--------+-------+--------+-----+----------+-------+\n",
      "|    null|   null|    null| null|      null|   null|\n",
      "|    null|   null|    null| null|      null|   null|\n",
      "|    null|   null|    null| null|      null|   null|\n",
      "|    null|   null|    null| null|      null|   null|\n",
      "|    null|   null|    null| null|      null|   null|\n",
      "|    null|   null|    null| null|      null|   null|\n",
      "|    null|   null|    null| null|      null|   null|\n",
      "|    null|   null|    null| null|      null|   null|\n",
      "|    null|   null|    null| null|      null|   null|\n",
      "|    null|   null|    null| null|      null|   null|\n",
      "+--------+-------+--------+-----+----------+-------+\n",
      "only showing top 10 rows\n",
      "\n"
     ]
    }
   ],
   "source": [
    "sale_df.filter(col(\"Order ID\").isNull()==True).show(10)"
   ]
  },
  {
   "cell_type": "code",
   "execution_count": 8,
   "metadata": {},
   "outputs": [],
   "source": [
    "sale_df = sale_df.na.drop(\"any\")"
   ]
  },
  {
   "cell_type": "code",
   "execution_count": 9,
   "metadata": {},
   "outputs": [
    {
     "name": "stdout",
     "output_type": "stream",
     "text": [
      "+--------+-------+--------+-----+----------+-------+\n",
      "|Order ID|Product|Quantity|Price|Order Date|Address|\n",
      "+--------+-------+--------+-----+----------+-------+\n",
      "+--------+-------+--------+-----+----------+-------+\n",
      "\n"
     ]
    }
   ],
   "source": [
    "sale_df.filter(col(\"Order ID\").isNull()==True).show(10)"
   ]
  },
  {
   "cell_type": "code",
   "execution_count": 10,
   "metadata": {},
   "outputs": [
    {
     "name": "stdout",
     "output_type": "stream",
     "text": [
      "+-------+------------------+------------+------------------+------------------+--------------+--------------------+\n",
      "|summary|          Order ID|     Product|          Quantity|             Price|    Order Date|             Address|\n",
      "+-------+------------------+------------+------------------+------------------+--------------+--------------------+\n",
      "|  count|            186305|      186305|            186305|            186305|        186305|              186305|\n",
      "|   mean| 230417.5693788653|        null|1.1243828986286637|184.39973476747707|          null|                null|\n",
      "| stddev|51512.737109995265|        null|0.4427926240286704| 332.7313298843439|          null|                null|\n",
      "|    min|            141234|20in Monitor|                 1|            109.99|01/01/19 03:07|1 11th St, Atlant...|\n",
      "|    max|          Order ID|      iPhone|  Quantity Ordered|        Price Each|    Order Date|    Purchase Address|\n",
      "+-------+------------------+------------+------------------+------------------+--------------+--------------------+\n",
      "\n"
     ]
    }
   ],
   "source": [
    "sale_df.describe(\"Order ID\",\"Product\",\"Quantity\",\"Price\",\"Order Date\",\"Address\").show()"
   ]
  },
  {
   "cell_type": "markdown",
   "metadata": {},
   "source": [
    "### ta thấy rằng có một vài vấn đề không đúng ở đây, ví dụ\n",
    "#### cột id đáng ra chỉ có  số nhưng lại có những giá trị như \"Order ID\"\n",
    "#### và các cột còn lại có rất nhiều giá trị bất hợp lý ở hàng max\n",
    "#### đầu tiên ở dưới ta thực hiện xoá những bản ghi trùng lặp"
   ]
  },
  {
   "cell_type": "code",
   "execution_count": 11,
   "metadata": {},
   "outputs": [],
   "source": [
    "distinct_df = sale_df.distinct()"
   ]
  },
  {
   "cell_type": "code",
   "execution_count": 12,
   "metadata": {},
   "outputs": [
    {
     "name": "stdout",
     "output_type": "stream",
     "text": [
      "+--------+-------+----------------+----------+----------+----------------+\n",
      "|Order ID|Product|        Quantity|     Price|Order Date|         Address|\n",
      "+--------+-------+----------------+----------+----------+----------------+\n",
      "|Order ID|Product|Quantity Ordered|Price Each|Order Date|Purchase Address|\n",
      "+--------+-------+----------------+----------+----------+----------------+\n",
      "\n"
     ]
    }
   ],
   "source": [
    "distinct_df.filter(col(\"Order ID\")== \"Order ID\").show(10)"
   ]
  },
  {
   "cell_type": "code",
   "execution_count": 13,
   "metadata": {},
   "outputs": [],
   "source": [
    "clean_df = distinct_df.filter(col(\"Order ID\") != \"Order ID\")"
   ]
  },
  {
   "cell_type": "code",
   "execution_count": 14,
   "metadata": {},
   "outputs": [
    {
     "name": "stdout",
     "output_type": "stream",
     "text": [
      "+--------+-------+--------+-----+----------+-------+\n",
      "|Order ID|Product|Quantity|Price|Order Date|Address|\n",
      "+--------+-------+--------+-----+----------+-------+\n",
      "+--------+-------+--------+-----+----------+-------+\n",
      "\n"
     ]
    }
   ],
   "source": [
    "clean_df.filter(col(\"Order ID\") == \"Order ID\").show(10)"
   ]
  },
  {
   "cell_type": "code",
   "execution_count": 15,
   "metadata": {},
   "outputs": [
    {
     "name": "stdout",
     "output_type": "stream",
     "text": [
      "+-------+------------------+------------+-------------------+------------------+--------------+--------------------+\n",
      "|summary|          Order ID|     Product|           Quantity|             Price|    Order Date|             Address|\n",
      "+-------+------------------+------------+-------------------+------------------+--------------+--------------------+\n",
      "|  count|            185686|      185686|             185686|            185686|        185686|              185686|\n",
      "|   mean|230411.37622653297|        null| 1.1245435843305365|184.51925546352425|          null|                null|\n",
      "| stddev| 51511.71718332087|        null|0.44306873838328736|332.84383839005227|          null|                null|\n",
      "|    min|            141234|20in Monitor|                  1|            109.99|01/01/19 03:07|1 11th St, Atlant...|\n",
      "|    max|            319670|      iPhone|                  9|            999.99|12/31/19 23:53|999 Wilson St, Sa...|\n",
      "+-------+------------------+------------+-------------------+------------------+--------------+--------------------+\n",
      "\n"
     ]
    }
   ],
   "source": [
    "clean_df.describe(\"Order ID\",\"Product\",\"Quantity\",\"Price\",\"Order Date\",\"Address\").show()"
   ]
  },
  {
   "cell_type": "markdown",
   "metadata": {},
   "source": [
    "#### bây giờ ở các cột ta đã thấy rằng giá trị đúng cần tìm đúng là số, chữ hay địa chỉ chứ không phải sai thể loại nữa"
   ]
  },
  {
   "cell_type": "markdown",
   "metadata": {},
   "source": [
    "### Trích xuất những dữ liệu nhỏ hơn\n",
    "trong ý tưởng ta có thể nghĩ ra rằng chúng ta sẽ rút chuỗi dựa trên dấu phẩy sau đó trích xuất tương ứng"
   ]
  },
  {
   "cell_type": "code",
   "execution_count": 16,
   "metadata": {},
   "outputs": [
    {
     "name": "stdout",
     "output_type": "stream",
     "text": [
      "+--------+------------------------+--------+-----+--------------+-------------------------------------+\n",
      "|Order ID|Product                 |Quantity|Price|Order Date    |Address                              |\n",
      "+--------+------------------------+--------+-----+--------------+-------------------------------------+\n",
      "|295726  |Lightning Charging Cable|1       |14.95|12/25/19 14:49|203 Lakeview St, Boston, MA 02215    |\n",
      "|295936  |AAA Batteries (4-pack)  |1       |2.99 |12/23/19 10:08|283 Highland St, Seattle, WA 98101   |\n",
      "|295991  |Lightning Charging Cable|1       |14.95|12/15/19 20:16|857 Center St, Boston, MA 02215      |\n",
      "|296052  |Apple Airpods Headphones|1       |150  |12/08/19 18:59|349 Maple St, San Francisco, CA 94016|\n",
      "|296154  |Lightning Charging Cable|1       |14.95|12/08/19 20:30|150 Ridge St, Austin, TX 73301       |\n",
      "|296387  |USB-C Charging Cable    |2       |11.95|12/27/19 21:07|40 North St, Portland, OR 97035      |\n",
      "|296566  |Lightning Charging Cable|1       |14.95|12/07/19 15:14|343 Park St, New York City, NY 10001 |\n",
      "|296574  |iPhone                  |1       |700  |12/17/19 20:17|709 Spruce St, Los Angeles, CA 90001 |\n",
      "|296595  |Lightning Charging Cable|1       |14.95|12/17/19 16:43|793 10th St, Los Angeles, CA 90001   |\n",
      "|296633  |Wired Headphones        |2       |11.99|12/18/19 23:04|25 Lincoln St, Portland, OR 97035    |\n",
      "+--------+------------------------+--------+-----+--------------+-------------------------------------+\n",
      "only showing top 10 rows\n",
      "\n"
     ]
    }
   ],
   "source": [
    "clean_df.show(10, truncate = False)"
   ]
  },
  {
   "cell_type": "code",
   "execution_count": 17,
   "metadata": {},
   "outputs": [],
   "source": [
    "from pyspark.sql.functions import split"
   ]
  },
  {
   "cell_type": "code",
   "execution_count": 18,
   "metadata": {},
   "outputs": [
    {
     "name": "stdout",
     "output_type": "stream",
     "text": [
      "+-------------------------------------+\n",
      "|Address                              |\n",
      "+-------------------------------------+\n",
      "|203 Lakeview St, Boston, MA 02215    |\n",
      "|283 Highland St, Seattle, WA 98101   |\n",
      "|857 Center St, Boston, MA 02215      |\n",
      "|349 Maple St, San Francisco, CA 94016|\n",
      "|150 Ridge St, Austin, TX 73301       |\n",
      "|40 North St, Portland, OR 97035      |\n",
      "|343 Park St, New York City, NY 10001 |\n",
      "|709 Spruce St, Los Angeles, CA 90001 |\n",
      "|793 10th St, Los Angeles, CA 90001   |\n",
      "|25 Lincoln St, Portland, OR 97035    |\n",
      "+-------------------------------------+\n",
      "only showing top 10 rows\n",
      "\n"
     ]
    }
   ],
   "source": [
    "clean_df.select(\"Address\").show(10,False)"
   ]
  },
  {
   "cell_type": "code",
   "execution_count": 19,
   "metadata": {},
   "outputs": [
    {
     "name": "stdout",
     "output_type": "stream",
     "text": [
      "+-------------------------------------+-----------------------------------------+\n",
      "|Address                              |split(Address, ,, -1)                    |\n",
      "+-------------------------------------+-----------------------------------------+\n",
      "|203 Lakeview St, Boston, MA 02215    |[203 Lakeview St,  Boston,  MA 02215]    |\n",
      "|283 Highland St, Seattle, WA 98101   |[283 Highland St,  Seattle,  WA 98101]   |\n",
      "|857 Center St, Boston, MA 02215      |[857 Center St,  Boston,  MA 02215]      |\n",
      "|349 Maple St, San Francisco, CA 94016|[349 Maple St,  San Francisco,  CA 94016]|\n",
      "|150 Ridge St, Austin, TX 73301       |[150 Ridge St,  Austin,  TX 73301]       |\n",
      "|40 North St, Portland, OR 97035      |[40 North St,  Portland,  OR 97035]      |\n",
      "|343 Park St, New York City, NY 10001 |[343 Park St,  New York City,  NY 10001] |\n",
      "|709 Spruce St, Los Angeles, CA 90001 |[709 Spruce St,  Los Angeles,  CA 90001] |\n",
      "|793 10th St, Los Angeles, CA 90001   |[793 10th St,  Los Angeles,  CA 90001]   |\n",
      "|25 Lincoln St, Portland, OR 97035    |[25 Lincoln St,  Portland,  OR 97035]    |\n",
      "+-------------------------------------+-----------------------------------------+\n",
      "only showing top 10 rows\n",
      "\n"
     ]
    }
   ],
   "source": [
    "clean_df.select(\"Address\",split(col(\"Address\"),\",\")).show(10,False)"
   ]
  },
  {
   "cell_type": "markdown",
   "metadata": {},
   "source": [
    "Bây giờ ta có thẻ hiểu rằng cột thứ 2 như là một list, ta có thể thoải mái lấy thông tin dựa trên index"
   ]
  },
  {
   "cell_type": "code",
   "execution_count": 20,
   "metadata": {},
   "outputs": [
    {
     "name": "stdout",
     "output_type": "stream",
     "text": [
      "+-------------------------------------+------------------------+\n",
      "|Address                              |split(Address, ,, -1)[1]|\n",
      "+-------------------------------------+------------------------+\n",
      "|203 Lakeview St, Boston, MA 02215    | Boston                 |\n",
      "|283 Highland St, Seattle, WA 98101   | Seattle                |\n",
      "|857 Center St, Boston, MA 02215      | Boston                 |\n",
      "|349 Maple St, San Francisco, CA 94016| San Francisco          |\n",
      "|150 Ridge St, Austin, TX 73301       | Austin                 |\n",
      "|40 North St, Portland, OR 97035      | Portland               |\n",
      "|343 Park St, New York City, NY 10001 | New York City          |\n",
      "|709 Spruce St, Los Angeles, CA 90001 | Los Angeles            |\n",
      "|793 10th St, Los Angeles, CA 90001   | Los Angeles            |\n",
      "|25 Lincoln St, Portland, OR 97035    | Portland               |\n",
      "+-------------------------------------+------------------------+\n",
      "only showing top 10 rows\n",
      "\n"
     ]
    }
   ],
   "source": [
    "clean_df.select(\"Address\",split(col(\"Address\"),\",\").getItem(1)).show(10,False)"
   ]
  },
  {
   "cell_type": "code",
   "execution_count": 21,
   "metadata": {},
   "outputs": [
    {
     "name": "stdout",
     "output_type": "stream",
     "text": [
      "+-------------------------------------+------------------------+\n",
      "|Address                              |split(Address, ,, -1)[2]|\n",
      "+-------------------------------------+------------------------+\n",
      "|203 Lakeview St, Boston, MA 02215    | MA 02215               |\n",
      "|283 Highland St, Seattle, WA 98101   | WA 98101               |\n",
      "|857 Center St, Boston, MA 02215      | MA 02215               |\n",
      "|349 Maple St, San Francisco, CA 94016| CA 94016               |\n",
      "|150 Ridge St, Austin, TX 73301       | TX 73301               |\n",
      "|40 North St, Portland, OR 97035      | OR 97035               |\n",
      "|343 Park St, New York City, NY 10001 | NY 10001               |\n",
      "|709 Spruce St, Los Angeles, CA 90001 | CA 90001               |\n",
      "|793 10th St, Los Angeles, CA 90001   | CA 90001               |\n",
      "|25 Lincoln St, Portland, OR 97035    | OR 97035               |\n",
      "+-------------------------------------+------------------------+\n",
      "only showing top 10 rows\n",
      "\n"
     ]
    }
   ],
   "source": [
    "clean_df.select(\"Address\",split(col(\"Address\"),\",\").getItem(2)).show(10,False)"
   ]
  },
  {
   "cell_type": "code",
   "execution_count": 22,
   "metadata": {},
   "outputs": [
    {
     "name": "stdout",
     "output_type": "stream",
     "text": [
      "+-------------------------------------+--------------------------------------+\n",
      "|Address                              |split(split(Address, ,, -1)[2],  , -1)|\n",
      "+-------------------------------------+--------------------------------------+\n",
      "|203 Lakeview St, Boston, MA 02215    |[, MA, 02215]                         |\n",
      "|283 Highland St, Seattle, WA 98101   |[, WA, 98101]                         |\n",
      "|857 Center St, Boston, MA 02215      |[, MA, 02215]                         |\n",
      "|349 Maple St, San Francisco, CA 94016|[, CA, 94016]                         |\n",
      "|150 Ridge St, Austin, TX 73301       |[, TX, 73301]                         |\n",
      "|40 North St, Portland, OR 97035      |[, OR, 97035]                         |\n",
      "|343 Park St, New York City, NY 10001 |[, NY, 10001]                         |\n",
      "|709 Spruce St, Los Angeles, CA 90001 |[, CA, 90001]                         |\n",
      "|793 10th St, Los Angeles, CA 90001   |[, CA, 90001]                         |\n",
      "|25 Lincoln St, Portland, OR 97035    |[, OR, 97035]                         |\n",
      "+-------------------------------------+--------------------------------------+\n",
      "only showing top 10 rows\n",
      "\n"
     ]
    }
   ],
   "source": [
    "clean_df.select(\"Address\",split(split(col(\"Address\"),\",\").getItem(2),\" \")).show(10,False)"
   ]
  },
  {
   "cell_type": "code",
   "execution_count": 23,
   "metadata": {},
   "outputs": [],
   "source": [
    "new_col = (sale_df.withColumn(\"City\",split(col(\"Address\"),\",\").getItem(1))\n",
    "                  .withColumn(\"State\",split(split(col(\"Address\"),\",\").getItem(2),\" \").getItem(1)))"
   ]
  },
  {
   "cell_type": "code",
   "execution_count": 24,
   "metadata": {},
   "outputs": [
    {
     "name": "stdout",
     "output_type": "stream",
     "text": [
      "+--------+--------------------+--------+------+--------------+--------------------+--------------+-----+\n",
      "|Order ID|             Product|Quantity| Price|    Order Date|             Address|          City|State|\n",
      "+--------+--------------------+--------+------+--------------+--------------------+--------------+-----+\n",
      "|  295665|  Macbook Pro Laptop|       1|  1700|12/30/19 00:01|136 Church St, Ne...| New York City|   NY|\n",
      "|  295666|  LG Washing Machine|       1| 600.0|12/29/19 07:03|562 2nd St, New Y...| New York City|   NY|\n",
      "|  295667|USB-C Charging Cable|       1| 11.95|12/12/19 18:21|277 Main St, New ...| New York City|   NY|\n",
      "|  295668|    27in FHD Monitor|       1|149.99|12/22/19 15:13|410 6th St, San F...| San Francisco|   CA|\n",
      "|  295669|USB-C Charging Cable|       1| 11.95|12/18/19 12:38|43 Hill St, Atlan...|       Atlanta|   GA|\n",
      "|  295670|AA Batteries (4-p...|       1|  3.84|12/31/19 22:58|200 Jefferson St,...| New York City|   NY|\n",
      "|  295671|USB-C Charging Cable|       1| 11.95|12/16/19 15:10|928 12th St, Port...|      Portland|   OR|\n",
      "|  295672|USB-C Charging Cable|       2| 11.95|12/13/19 09:29|813 Hickory St, D...|        Dallas|   TX|\n",
      "|  295673|Bose SoundSport H...|       1| 99.99|12/15/19 23:26|718 Wilson St, Da...|        Dallas|   TX|\n",
      "|  295674|AAA Batteries (4-...|       4|  2.99|12/28/19 11:51|77 7th St, Dallas...|        Dallas|   TX|\n",
      "+--------+--------------------+--------+------+--------------+--------------------+--------------+-----+\n",
      "only showing top 10 rows\n",
      "\n"
     ]
    }
   ],
   "source": [
    "new_col.show(10)"
   ]
  },
  {
   "cell_type": "markdown",
   "metadata": {},
   "source": [
    "### Rename and change DataType\n",
    "bây giờ ta đã thấy dữ liệu đã sạch đẹp, bước tiếp theo là trả về đúng kiểu dữ liệu"
   ]
  },
  {
   "cell_type": "code",
   "execution_count": 25,
   "metadata": {},
   "outputs": [],
   "source": [
    "from pyspark.sql.functions import to_timestamp, year, month\n",
    "from pyspark.sql.types import IntegerType,FloatType"
   ]
  },
  {
   "cell_type": "code",
   "execution_count": 26,
   "metadata": {},
   "outputs": [],
   "source": [
    "new_df = (new_col.withColumn(\"Order_ID\",col(\"Order ID\").cast(IntegerType()))\n",
    "                 .withColumn(\"Quantity_pro\",col(\"Quantity\").cast(IntegerType()))\n",
    "                 .withColumn(\"Price_pro\",col(\"Price\").cast(IntegerType()))\n",
    "                 .withColumn(\"Order_Date\",to_timestamp(col(\"Order Date\"),\"MM/dd/yy HH:mm\"))\n",
    "                 .withColumnRenamed(\"Address\",\"StoreAddress\")\n",
    "                 .drop(\"Order ID\")\n",
    "                 .drop(\"Quantity\")\n",
    "                 .drop(\"Price\")\n",
    "                 .drop(\"Order Date\"))\n",
    "         "
   ]
  },
  {
   "cell_type": "code",
   "execution_count": 27,
   "metadata": {},
   "outputs": [
    {
     "name": "stdout",
     "output_type": "stream",
     "text": [
      "+--------------------+--------------------+--------------+-----+--------+------------+---------+-------------------+\n",
      "|             Product|        StoreAddress|          City|State|Order_ID|Quantity_pro|Price_pro|         Order_Date|\n",
      "+--------------------+--------------------+--------------+-----+--------+------------+---------+-------------------+\n",
      "|  Macbook Pro Laptop|136 Church St, Ne...| New York City|   NY|  295665|           1|     1700|2019-12-30 00:01:00|\n",
      "|  LG Washing Machine|562 2nd St, New Y...| New York City|   NY|  295666|           1|      600|2019-12-29 07:03:00|\n",
      "|USB-C Charging Cable|277 Main St, New ...| New York City|   NY|  295667|           1|       11|2019-12-12 18:21:00|\n",
      "|    27in FHD Monitor|410 6th St, San F...| San Francisco|   CA|  295668|           1|      149|2019-12-22 15:13:00|\n",
      "|USB-C Charging Cable|43 Hill St, Atlan...|       Atlanta|   GA|  295669|           1|       11|2019-12-18 12:38:00|\n",
      "|AA Batteries (4-p...|200 Jefferson St,...| New York City|   NY|  295670|           1|        3|2019-12-31 22:58:00|\n",
      "|USB-C Charging Cable|928 12th St, Port...|      Portland|   OR|  295671|           1|       11|2019-12-16 15:10:00|\n",
      "|USB-C Charging Cable|813 Hickory St, D...|        Dallas|   TX|  295672|           2|       11|2019-12-13 09:29:00|\n",
      "|Bose SoundSport H...|718 Wilson St, Da...|        Dallas|   TX|  295673|           1|       99|2019-12-15 23:26:00|\n",
      "|AAA Batteries (4-...|77 7th St, Dallas...|        Dallas|   TX|  295674|           4|        2|2019-12-28 11:51:00|\n",
      "+--------------------+--------------------+--------------+-----+--------+------------+---------+-------------------+\n",
      "only showing top 10 rows\n",
      "\n"
     ]
    }
   ],
   "source": [
    "new_df.show(10)"
   ]
  },
  {
   "cell_type": "code",
   "execution_count": 28,
   "metadata": {},
   "outputs": [
    {
     "name": "stdout",
     "output_type": "stream",
     "text": [
      "root\n",
      " |-- Product: string (nullable = true)\n",
      " |-- StoreAddress: string (nullable = true)\n",
      " |-- City: string (nullable = true)\n",
      " |-- State: string (nullable = true)\n",
      " |-- Order_ID: integer (nullable = true)\n",
      " |-- Quantity_pro: integer (nullable = true)\n",
      " |-- Price_pro: integer (nullable = true)\n",
      " |-- Order_Date: timestamp (nullable = true)\n",
      "\n"
     ]
    }
   ],
   "source": [
    "new_df.printSchema()"
   ]
  },
  {
   "cell_type": "code",
   "execution_count": 29,
   "metadata": {},
   "outputs": [],
   "source": [
    "new_df = (new_df.withColumn(\"Year\",year(col(\"Order_Date\")))\n",
    "                 .withColumn(\"Month\",month(col(\"Order_Date\"))))"
   ]
  },
  {
   "cell_type": "code",
   "execution_count": 30,
   "metadata": {},
   "outputs": [
    {
     "name": "stdout",
     "output_type": "stream",
     "text": [
      "+--------------------+--------------------+--------------+-----+--------+------------+---------+-------------------+----+-----+\n",
      "|             Product|        StoreAddress|          City|State|Order_ID|Quantity_pro|Price_pro|         Order_Date|Year|Month|\n",
      "+--------------------+--------------------+--------------+-----+--------+------------+---------+-------------------+----+-----+\n",
      "|  Macbook Pro Laptop|136 Church St, Ne...| New York City|   NY|  295665|           1|     1700|2019-12-30 00:01:00|2019|   12|\n",
      "|  LG Washing Machine|562 2nd St, New Y...| New York City|   NY|  295666|           1|      600|2019-12-29 07:03:00|2019|   12|\n",
      "|USB-C Charging Cable|277 Main St, New ...| New York City|   NY|  295667|           1|       11|2019-12-12 18:21:00|2019|   12|\n",
      "|    27in FHD Monitor|410 6th St, San F...| San Francisco|   CA|  295668|           1|      149|2019-12-22 15:13:00|2019|   12|\n",
      "|USB-C Charging Cable|43 Hill St, Atlan...|       Atlanta|   GA|  295669|           1|       11|2019-12-18 12:38:00|2019|   12|\n",
      "|AA Batteries (4-p...|200 Jefferson St,...| New York City|   NY|  295670|           1|        3|2019-12-31 22:58:00|2019|   12|\n",
      "|USB-C Charging Cable|928 12th St, Port...|      Portland|   OR|  295671|           1|       11|2019-12-16 15:10:00|2019|   12|\n",
      "|USB-C Charging Cable|813 Hickory St, D...|        Dallas|   TX|  295672|           2|       11|2019-12-13 09:29:00|2019|   12|\n",
      "|Bose SoundSport H...|718 Wilson St, Da...|        Dallas|   TX|  295673|           1|       99|2019-12-15 23:26:00|2019|   12|\n",
      "|AAA Batteries (4-...|77 7th St, Dallas...|        Dallas|   TX|  295674|           4|        2|2019-12-28 11:51:00|2019|   12|\n",
      "+--------------------+--------------------+--------------+-----+--------+------------+---------+-------------------+----+-----+\n",
      "only showing top 10 rows\n",
      "\n"
     ]
    }
   ],
   "source": [
    "new_df.show(10)"
   ]
  },
  {
   "cell_type": "markdown",
   "metadata": {},
   "source": [
    "### lưu vào file parquet\n",
    "Tại sao ta không lưu vào một định dạng dễ nhìn như csv hay pgadmin mà phải lưu vào parquet<br>\n",
    "ta có thể hiểu rằng file parquet phân vùng dữ liệu cực kì tốt và có thể chia nhỏ những dữ liệu theo mong muốn của mình<br>\n",
    "việc này giúp khi lưu dữ liệu xuống nó được sắp xếp ngăn nắp trong các folder riêng việt<br>\n",
    "khi muốn lấy dữ liệu nào ta chỉ cần lấy đúng vị trí và địa chỉ đó không phải load một khối lượng data to đùng<br>"
   ]
  },
  {
   "cell_type": "code",
   "execution_count": 31,
   "metadata": {},
   "outputs": [],
   "source": [
    "output_path = \"challenge2\"\n",
    "new_df.write.mode(\"overwrite\").partitionBy(\"Year\",\"Month\").parquet(output_path)"
   ]
  },
  {
   "cell_type": "markdown",
   "metadata": {},
   "source": [
    "vậy là ta sẽ thấy được dữ liệu lưu xuống theo 2 năm là 2019 và 2020<br>\n",
    "trong folder 2019 và 2020 lại được chia ra folder nhỏ với 12 tháng<br>"
   ]
  },
  {
   "cell_type": "code",
   "execution_count": null,
   "metadata": {},
   "outputs": [],
   "source": []
  }
 ],
 "metadata": {
  "kernelspec": {
   "display_name": "Python 3",
   "language": "python",
   "name": "python3"
  },
  "language_info": {
   "codemirror_mode": {
    "name": "ipython",
    "version": 3
   },
   "file_extension": ".py",
   "mimetype": "text/x-python",
   "name": "python",
   "nbconvert_exporter": "python",
   "pygments_lexer": "ipython3",
   "version": "3.7.1"
  }
 },
 "nbformat": 4,
 "nbformat_minor": 2
}
