{
 "cells": [
  {
   "cell_type": "code",
   "execution_count": 1,
   "metadata": {},
   "outputs": [],
   "source": [
    "from pyspark.sql import SparkSession\n",
    "from pyspark.sql.types import StructType,StructField,StringType"
   ]
  },
  {
   "cell_type": "code",
   "execution_count": 2,
   "metadata": {},
   "outputs": [],
   "source": [
    "spark = (SparkSession.builder.appName(\"Challenge 2\").getOrCreate())"
   ]
  },
  {
   "cell_type": "markdown",
   "metadata": {},
   "source": [
    "### tại sao khi load ta lại để hết StringType \n",
    "#### Vì rất có thể dữ liệu đang bị sai mà load vào sẽ không nhận và bị lỗi trong khi load\n",
    "#### trong khi đó stringtype nhận mọi loại dữ liệu, ta có thể load vào và xử lý từ từ"
   ]
  },
  {
   "cell_type": "code",
   "execution_count": 3,
   "metadata": {},
   "outputs": [],
   "source": [
    "sale_df = StructType([\n",
    "    StructField(\"Order ID\",StringType(),True),\n",
    "    StructField(\"Product\",StringType(),True),\n",
    "    StructField(\"Quantity\",StringType(),True),\n",
    "    StructField(\"Price\",StringType(),True),\n",
    "    StructField(\"Order Date\",StringType(),True),\n",
    "    StructField(\"Address\",StringType(),True)\n",
    "])"
   ]
  },
  {
   "cell_type": "code",
   "execution_count": 4,
   "metadata": {},
   "outputs": [
    {
     "name": "stdout",
     "output_type": "stream",
     "text": [
      "+--------+--------------------+--------+------+--------------+--------------------+\n",
      "|Order ID|             Product|Quantity| Price|    Order Date|             Address|\n",
      "+--------+--------------------+--------+------+--------------+--------------------+\n",
      "|  295665|  Macbook Pro Laptop|       1|  1700|12/30/19 00:01|136 Church St, Ne...|\n",
      "|  295666|  LG Washing Machine|       1| 600.0|12/29/19 07:03|562 2nd St, New Y...|\n",
      "|  295667|USB-C Charging Cable|       1| 11.95|12/12/19 18:21|277 Main St, New ...|\n",
      "|  295668|    27in FHD Monitor|       1|149.99|12/22/19 15:13|410 6th St, San F...|\n",
      "|  295669|USB-C Charging Cable|       1| 11.95|12/18/19 12:38|43 Hill St, Atlan...|\n",
      "|  295670|AA Batteries (4-p...|       1|  3.84|12/31/19 22:58|200 Jefferson St,...|\n",
      "|  295671|USB-C Charging Cable|       1| 11.95|12/16/19 15:10|928 12th St, Port...|\n",
      "|  295672|USB-C Charging Cable|       2| 11.95|12/13/19 09:29|813 Hickory St, D...|\n",
      "|  295673|Bose SoundSport H...|       1| 99.99|12/15/19 23:26|718 Wilson St, Da...|\n",
      "|  295674|AAA Batteries (4-...|       4|  2.99|12/28/19 11:51|77 7th St, Dallas...|\n",
      "+--------+--------------------+--------+------+--------------+--------------------+\n",
      "only showing top 10 rows\n",
      "\n"
     ]
    }
   ],
   "source": [
    "sale_path = \"salesdata\"\n",
    "sale_df = (spark.read.format(\"csv\")\n",
    "          .option(\"header\",True)\n",
    "          .schema(sale_df)\n",
    "          .load(sale_path))\n",
    "sale_df.show(10)"
   ]
  },
  {
   "cell_type": "code",
   "execution_count": 5,
   "metadata": {},
   "outputs": [],
   "source": [
    "from pyspark.sql.functions import col"
   ]
  },
  {
   "cell_type": "code",
   "execution_count": 6,
   "metadata": {},
   "outputs": [
    {
     "name": "stdout",
     "output_type": "stream",
     "text": [
      "+--------+-------+----------------+----------+----------+----------------+\n",
      "|Order ID|Product|        Quantity|     Price|Order Date|         Address|\n",
      "+--------+-------+----------------+----------+----------+----------------+\n",
      "|Order ID|Product|Quantity Ordered|Price Each|Order Date|Purchase Address|\n",
      "|Order ID|Product|Quantity Ordered|Price Each|Order Date|Purchase Address|\n",
      "|Order ID|Product|Quantity Ordered|Price Each|Order Date|Purchase Address|\n",
      "|Order ID|Product|Quantity Ordered|Price Each|Order Date|Purchase Address|\n",
      "|Order ID|Product|Quantity Ordered|Price Each|Order Date|Purchase Address|\n",
      "|Order ID|Product|Quantity Ordered|Price Each|Order Date|Purchase Address|\n",
      "|Order ID|Product|Quantity Ordered|Price Each|Order Date|Purchase Address|\n",
      "|Order ID|Product|Quantity Ordered|Price Each|Order Date|Purchase Address|\n",
      "|Order ID|Product|Quantity Ordered|Price Each|Order Date|Purchase Address|\n",
      "|Order ID|Product|Quantity Ordered|Price Each|Order Date|Purchase Address|\n",
      "+--------+-------+----------------+----------+----------+----------------+\n",
      "only showing top 10 rows\n",
      "\n"
     ]
    }
   ],
   "source": [
    "sale_df.filter(col(\"Order ID\") == \"Order ID\").show(10)"
   ]
  },
  {
   "cell_type": "markdown",
   "metadata": {},
   "source": [
    "### Xoá các hàng bị null và sai\n",
    "#### bây giờ ta sẽ thực hiện xoá các cột bị null \n",
    "#### tiếp theo sẽ xoá các cột có giá trị không mong muốn như sai type, sai kiểu dữ liệu"
   ]
  },
  {
   "cell_type": "code",
   "execution_count": 15,
   "metadata": {},
   "outputs": [
    {
     "name": "stdout",
     "output_type": "stream",
     "text": [
      "+--------+-------+--------+-----+----------+-------+\n",
      "|Order ID|Product|Quantity|Price|Order Date|Address|\n",
      "+--------+-------+--------+-----+----------+-------+\n",
      "|    null|   null|    null| null|      null|   null|\n",
      "|    null|   null|    null| null|      null|   null|\n",
      "|    null|   null|    null| null|      null|   null|\n",
      "|    null|   null|    null| null|      null|   null|\n",
      "|    null|   null|    null| null|      null|   null|\n",
      "|    null|   null|    null| null|      null|   null|\n",
      "|    null|   null|    null| null|      null|   null|\n",
      "|    null|   null|    null| null|      null|   null|\n",
      "|    null|   null|    null| null|      null|   null|\n",
      "|    null|   null|    null| null|      null|   null|\n",
      "+--------+-------+--------+-----+----------+-------+\n",
      "only showing top 10 rows\n",
      "\n"
     ]
    }
   ],
   "source": [
    "sale_df.filter(col(\"Order ID\").isNull()==True).show(10)"
   ]
  },
  {
   "cell_type": "code",
   "execution_count": 16,
   "metadata": {},
   "outputs": [],
   "source": [
    "sale_df = sale_df.na.drop(\"any\")"
   ]
  },
  {
   "cell_type": "code",
   "execution_count": 17,
   "metadata": {},
   "outputs": [
    {
     "name": "stdout",
     "output_type": "stream",
     "text": [
      "+--------+-------+--------+-----+----------+-------+\n",
      "|Order ID|Product|Quantity|Price|Order Date|Address|\n",
      "+--------+-------+--------+-----+----------+-------+\n",
      "+--------+-------+--------+-----+----------+-------+\n",
      "\n"
     ]
    }
   ],
   "source": [
    "sale_df.filter(col(\"Order ID\").isNull()==True).show(10)"
   ]
  },
  {
   "cell_type": "code",
   "execution_count": 19,
   "metadata": {},
   "outputs": [
    {
     "name": "stdout",
     "output_type": "stream",
     "text": [
      "+-------+------------------+------------+------------------+------------------+--------------+--------------------+\n",
      "|summary|          Order ID|     Product|          Quantity|             Price|    Order Date|             Address|\n",
      "+-------+------------------+------------+------------------+------------------+--------------+--------------------+\n",
      "|  count|            186305|      186305|            186305|            186305|        186305|              186305|\n",
      "|   mean| 230417.5693788653|        null|1.1243828986286637|184.39973476747707|          null|                null|\n",
      "| stddev|51512.737109995265|        null|0.4427926240286704| 332.7313298843439|          null|                null|\n",
      "|    min|            141234|20in Monitor|                 1|            109.99|01/01/19 03:07|1 11th St, Atlant...|\n",
      "|    max|          Order ID|      iPhone|  Quantity Ordered|        Price Each|    Order Date|    Purchase Address|\n",
      "+-------+------------------+------------+------------------+------------------+--------------+--------------------+\n",
      "\n"
     ]
    }
   ],
   "source": [
    "sale_df.describe(\"Order ID\",\"Product\",\"Quantity\",\"Price\",\"Order Date\",\"Address\").show()"
   ]
  },
  {
   "cell_type": "markdown",
   "metadata": {},
   "source": [
    "### ta thấy rằng có một vài vấn đề không đúng ở đây, ví dụ\n",
    "#### cột id đáng ra chỉ có  số nhưng lại có những giá trị như \"Order ID\"\n",
    "#### và các cột còn lại có rất nhiều giá trị bất hợp lý ở hàng max\n",
    "#### đầu tiên ở dưới ta thực hiện xoá những bản ghi trùng lặp"
   ]
  },
  {
   "cell_type": "code",
   "execution_count": 20,
   "metadata": {},
   "outputs": [],
   "source": [
    "distinct_df = sale_df.distinct()"
   ]
  },
  {
   "cell_type": "code",
   "execution_count": 21,
   "metadata": {},
   "outputs": [
    {
     "name": "stdout",
     "output_type": "stream",
     "text": [
      "+--------+-------+----------------+----------+----------+----------------+\n",
      "|Order ID|Product|        Quantity|     Price|Order Date|         Address|\n",
      "+--------+-------+----------------+----------+----------+----------------+\n",
      "|Order ID|Product|Quantity Ordered|Price Each|Order Date|Purchase Address|\n",
      "+--------+-------+----------------+----------+----------+----------------+\n",
      "\n"
     ]
    }
   ],
   "source": [
    "distinct_df.filter(col(\"Order ID\")== \"Order ID\").show(10)"
   ]
  },
  {
   "cell_type": "code",
   "execution_count": 22,
   "metadata": {},
   "outputs": [],
   "source": [
    "clean_df = distinct_df.filter(col(\"Order ID\") != \"Order ID\")"
   ]
  },
  {
   "cell_type": "code",
   "execution_count": 23,
   "metadata": {},
   "outputs": [
    {
     "name": "stdout",
     "output_type": "stream",
     "text": [
      "+--------+-------+--------+-----+----------+-------+\n",
      "|Order ID|Product|Quantity|Price|Order Date|Address|\n",
      "+--------+-------+--------+-----+----------+-------+\n",
      "+--------+-------+--------+-----+----------+-------+\n",
      "\n"
     ]
    }
   ],
   "source": [
    "clean_df.filter(col(\"Order ID\") == \"Order ID\").show(10)"
   ]
  },
  {
   "cell_type": "code",
   "execution_count": 25,
   "metadata": {},
   "outputs": [
    {
     "name": "stdout",
     "output_type": "stream",
     "text": [
      "+-------+------------------+------------+-------------------+------------------+--------------+--------------------+\n",
      "|summary|          Order ID|     Product|           Quantity|             Price|    Order Date|             Address|\n",
      "+-------+------------------+------------+-------------------+------------------+--------------+--------------------+\n",
      "|  count|            185686|      185686|             185686|            185686|        185686|              185686|\n",
      "|   mean|230411.37622653297|        null| 1.1245435843305365|184.51925546352425|          null|                null|\n",
      "| stddev| 51511.71718332087|        null|0.44306873838328736|332.84383839005227|          null|                null|\n",
      "|    min|            141234|20in Monitor|                  1|            109.99|01/01/19 03:07|1 11th St, Atlant...|\n",
      "|    max|            319670|      iPhone|                  9|            999.99|12/31/19 23:53|999 Wilson St, Sa...|\n",
      "+-------+------------------+------------+-------------------+------------------+--------------+--------------------+\n",
      "\n"
     ]
    }
   ],
   "source": [
    "clean_df.describe(\"Order ID\",\"Product\",\"Quantity\",\"Price\",\"Order Date\",\"Address\").show()"
   ]
  },
  {
   "cell_type": "markdown",
   "metadata": {},
   "source": [
    "#### bây giờ ở các cột ta đã thấy rằng giá trị đúng cần tìm đúng là số, chữ hay địa chỉ chứ không phải sai thể loại nữa"
   ]
  },
  {
   "cell_type": "code",
   "execution_count": null,
   "metadata": {},
   "outputs": [],
   "source": []
  }
 ],
 "metadata": {
  "kernelspec": {
   "display_name": "Python 3",
   "language": "python",
   "name": "python3"
  },
  "language_info": {
   "codemirror_mode": {
    "name": "ipython",
    "version": 3
   },
   "file_extension": ".py",
   "mimetype": "text/x-python",
   "name": "python",
   "nbconvert_exporter": "python",
   "pygments_lexer": "ipython3",
   "version": "3.7.1"
  }
 },
 "nbformat": 4,
 "nbformat_minor": 2
}
