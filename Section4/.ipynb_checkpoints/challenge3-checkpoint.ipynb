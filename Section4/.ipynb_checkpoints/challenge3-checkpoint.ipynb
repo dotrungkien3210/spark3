{
 "cells": [
  {
   "cell_type": "code",
   "execution_count": 1,
   "metadata": {},
   "outputs": [],
   "source": [
    "from pyspark.sql import SparkSession\n",
    "from pyspark.sql.functions import col,expr"
   ]
  },
  {
   "cell_type": "code",
   "execution_count": 2,
   "metadata": {},
   "outputs": [],
   "source": [
    "spark = (spark.builder.appName(\"sale_data\").getOrCreate())"
   ]
  },
  {
   "cell_type": "markdown",
   "metadata": {},
   "source": [
    "câu hỏi 1: đọc dữ liệu 2019 từ file parquet"
   ]
  },
  {
   "cell_type": "code",
   "execution_count": 3,
   "metadata": {},
   "outputs": [],
   "source": [
    "source_data_path = \"challenge2/\"\n",
    "partition = \"Year=2019\"\n",
    "full_path = f\"{source_data_path}{partition}\""
   ]
  },
  {
   "cell_type": "code",
   "execution_count": 4,
   "metadata": {},
   "outputs": [
    {
     "name": "stdout",
     "output_type": "stream",
     "text": [
      "+--------------------+--------------------+--------------+-----+--------+------------+---------+-------------------+-----+\n",
      "|             Product|        StoreAddress|          City|State|Order_ID|Quantity_pro|Price_pro|         Order_Date|Month|\n",
      "+--------------------+--------------------+--------------+-----+--------+------------+---------+-------------------+-----+\n",
      "|  Macbook Pro Laptop|136 Church St, Ne...| New York City|   NY|  295665|           1|     1700|2019-12-30 00:01:00|   12|\n",
      "|  LG Washing Machine|562 2nd St, New Y...| New York City|   NY|  295666|           1|      600|2019-12-29 07:03:00|   12|\n",
      "|USB-C Charging Cable|277 Main St, New ...| New York City|   NY|  295667|           1|       11|2019-12-12 18:21:00|   12|\n",
      "|    27in FHD Monitor|410 6th St, San F...| San Francisco|   CA|  295668|           1|      149|2019-12-22 15:13:00|   12|\n",
      "|USB-C Charging Cable|43 Hill St, Atlan...|       Atlanta|   GA|  295669|           1|       11|2019-12-18 12:38:00|   12|\n",
      "|AA Batteries (4-p...|200 Jefferson St,...| New York City|   NY|  295670|           1|        3|2019-12-31 22:58:00|   12|\n",
      "|USB-C Charging Cable|928 12th St, Port...|      Portland|   OR|  295671|           1|       11|2019-12-16 15:10:00|   12|\n",
      "|USB-C Charging Cable|813 Hickory St, D...|        Dallas|   TX|  295672|           2|       11|2019-12-13 09:29:00|   12|\n",
      "|Bose SoundSport H...|718 Wilson St, Da...|        Dallas|   TX|  295673|           1|       99|2019-12-15 23:26:00|   12|\n",
      "|AAA Batteries (4-...|77 7th St, Dallas...|        Dallas|   TX|  295674|           4|        2|2019-12-28 11:51:00|   12|\n",
      "|USB-C Charging Cable|594 1st St, San F...| San Francisco|   CA|  295675|           2|       11|2019-12-13 13:52:00|   12|\n",
      "|     ThinkPad Laptop|410 Lincoln St, L...|   Los Angeles|   CA|  295676|           1|      999|2019-12-28 17:19:00|   12|\n",
      "|AA Batteries (4-p...|866 Pine St, Bost...|        Boston|   MA|  295677|           2|        3|2019-12-20 19:19:00|   12|\n",
      "|AAA Batteries (4-...|187 Lincoln St, D...|        Dallas|   TX|  295678|           2|        2|2019-12-06 09:38:00|   12|\n",
      "|USB-C Charging Cable|902 2nd St, Dalla...|        Dallas|   TX|  295679|           1|       11|2019-12-25 09:39:00|   12|\n",
      "|Lightning Chargin...|338 Main St, Aust...|        Austin|   TX|  295680|           1|       14|2019-12-01 14:30:00|   12|\n",
      "|        Google Phone|79 Elm St, Boston...|        Boston|   MA|  295681|           1|      600|2019-12-25 12:37:00|   12|\n",
      "|USB-C Charging Cable|79 Elm St, Boston...|        Boston|   MA|  295681|           1|       11|2019-12-25 12:37:00|   12|\n",
      "|Bose SoundSport H...|79 Elm St, Boston...|        Boston|   MA|  295681|           1|       99|2019-12-25 12:37:00|   12|\n",
      "|    Wired Headphones|79 Elm St, Boston...|        Boston|   MA|  295681|           1|       11|2019-12-25 12:37:00|   12|\n",
      "+--------------------+--------------------+--------------+-----+--------+------------+---------+-------------------+-----+\n",
      "only showing top 20 rows\n",
      "\n"
     ]
    }
   ],
   "source": [
    "sale2019_df = spark.read.parquet(full_path)\n",
    "sale2019_df.show()"
   ]
  },
  {
   "cell_type": "markdown",
   "metadata": {},
   "source": [
    "## câu hỏi 2 là: tháng nào thuận lợi nhất để sale "
   ]
  },
  {
   "cell_type": "code",
   "execution_count": null,
   "metadata": {},
   "outputs": [],
   "source": [
    "!conda install seaborn=0.11\n",
    "!pip install pandas\n",
    "!pip install matplotlib"
   ]
  },
  {
   "cell_type": "code",
   "execution_count": null,
   "metadata": {},
   "outputs": [],
   "source": [
    "from pyspark.sql.functions import round, sum\n",
    "import pandas as pd\n",
    "import matplotlib.pyplot as plt\n",
    "import seaborn as sns"
   ]
  },
  {
   "cell_type": "code",
   "execution_count": null,
   "metadata": {},
   "outputs": [],
   "source": [
    "sale_df = (sale2019_df.select(\n",
    "                            col(\"Order_ID\"),\n",
    "                            col(\"Month\"),\n",
    "                            col(\"Price_pro\"),\n",
    "                            col(\"Quantity_pro\"),\n",
    "                            expr(\"Price_pro * Quantity_pro\").alias(\"Sales\")))"
   ]
  },
  {
   "cell_type": "code",
   "execution_count": null,
   "metadata": {},
   "outputs": [],
   "source": [
    "sale_df.show(10)"
   ]
  },
  {
   "cell_type": "markdown",
   "metadata": {},
   "source": [
    "thấy rằng ta cần so sánh tháng thì phải xem xét tháng"
   ]
  },
  {
   "cell_type": "code",
   "execution_count": null,
   "metadata": {},
   "outputs": [],
   "source": [
    " sale_df = (sale_df\n",
    "           .groupBy(\"Month\")\n",
    "           .agg(round(sum(\"Sales\"),2).alias(\"Total Sale\"))\n",
    "           .orderBy(\"Total Sale\",ascending=False))"
   ]
  },
  {
   "cell_type": "code",
   "execution_count": null,
   "metadata": {},
   "outputs": [],
   "source": [
    "sale_df.show()"
   ]
  },
  {
   "cell_type": "markdown",
   "metadata": {},
   "source": [
    "nhìn qua ta thấy ngay được rằng tháng 12 là tháng mà nên sale nhất"
   ]
  },
  {
   "cell_type": "code",
   "execution_count": null,
   "metadata": {},
   "outputs": [],
   "source": [
    "pandas_df = (sale_df.orderBy(\"Month\")).toPandas()"
   ]
  },
  {
   "cell_type": "code",
   "execution_count": null,
   "metadata": {},
   "outputs": [],
   "source": [
    "pandas_df"
   ]
  },
  {
   "cell_type": "code",
   "execution_count": null,
   "metadata": {},
   "outputs": [],
   "source": [
    "plt.figure(figsize=(10,6))\n",
    "plt.ticklabel_format(useOffset=False,style=\"plain\")\n",
    "sns.set_theme(style=\"whitegrid\")\n",
    "sns.barplot(x=\"Month\",y=\"Total Sale\",data=pandas_df).set_title(\"total sales per month\")\n",
    "plt.ylabel(\"Total Sale\")\n",
    "plt.show()"
   ]
  },
  {
   "cell_type": "code",
   "execution_count": null,
   "metadata": {},
   "outputs": [],
   "source": []
  }
 ],
 "metadata": {
  "kernelspec": {
   "display_name": "Python 3",
   "language": "python",
   "name": "python3"
  },
  "language_info": {
   "codemirror_mode": {
    "name": "ipython",
    "version": 3
   },
   "file_extension": ".py",
   "mimetype": "text/x-python",
   "name": "python",
   "nbconvert_exporter": "python",
   "pygments_lexer": "ipython3",
   "version": "3.7.1"
  }
 },
 "nbformat": 4,
 "nbformat_minor": 2
}
