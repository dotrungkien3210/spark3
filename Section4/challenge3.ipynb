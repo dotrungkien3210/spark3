{
 "cells": [
  {
   "cell_type": "code",
   "execution_count": 1,
   "metadata": {},
   "outputs": [],
   "source": [
    "from pyspark.sql import SparkSession\n",
    "from pyspark.sql.functions import col,expr"
   ]
  },
  {
   "cell_type": "code",
   "execution_count": 2,
   "metadata": {},
   "outputs": [],
   "source": [
    "spark = (spark.builder.appName(\"sale_data\").getOrCreate())"
   ]
  },
  {
   "cell_type": "markdown",
   "metadata": {},
   "source": [
    "câu hỏi 1: đọc dữ liệu 2019 từ file parquet"
   ]
  },
  {
   "cell_type": "code",
   "execution_count": 3,
   "metadata": {},
   "outputs": [],
   "source": [
    "source_data_path = \"challenge2/\"\n",
    "partition = \"Year=2019\"\n",
    "full_path = f\"{source_data_path}{partition}\""
   ]
  },
  {
   "cell_type": "code",
   "execution_count": 4,
   "metadata": {},
   "outputs": [
    {
     "name": "stdout",
     "output_type": "stream",
     "text": [
      "+--------------------+--------------------+--------------+-----+--------+------------+---------+-------------------+-----+\n",
      "|             Product|        StoreAddress|          City|State|Order_ID|Quantity_pro|Price_pro|         Order_Date|Month|\n",
      "+--------------------+--------------------+--------------+-----+--------+------------+---------+-------------------+-----+\n",
      "|  Macbook Pro Laptop|136 Church St, Ne...| New York City|   NY|  295665|           1|     1700|2019-12-30 00:01:00|   12|\n",
      "|  LG Washing Machine|562 2nd St, New Y...| New York City|   NY|  295666|           1|      600|2019-12-29 07:03:00|   12|\n",
      "|USB-C Charging Cable|277 Main St, New ...| New York City|   NY|  295667|           1|       11|2019-12-12 18:21:00|   12|\n",
      "|    27in FHD Monitor|410 6th St, San F...| San Francisco|   CA|  295668|           1|      149|2019-12-22 15:13:00|   12|\n",
      "|USB-C Charging Cable|43 Hill St, Atlan...|       Atlanta|   GA|  295669|           1|       11|2019-12-18 12:38:00|   12|\n",
      "|AA Batteries (4-p...|200 Jefferson St,...| New York City|   NY|  295670|           1|        3|2019-12-31 22:58:00|   12|\n",
      "|USB-C Charging Cable|928 12th St, Port...|      Portland|   OR|  295671|           1|       11|2019-12-16 15:10:00|   12|\n",
      "|USB-C Charging Cable|813 Hickory St, D...|        Dallas|   TX|  295672|           2|       11|2019-12-13 09:29:00|   12|\n",
      "|Bose SoundSport H...|718 Wilson St, Da...|        Dallas|   TX|  295673|           1|       99|2019-12-15 23:26:00|   12|\n",
      "|AAA Batteries (4-...|77 7th St, Dallas...|        Dallas|   TX|  295674|           4|        2|2019-12-28 11:51:00|   12|\n",
      "|USB-C Charging Cable|594 1st St, San F...| San Francisco|   CA|  295675|           2|       11|2019-12-13 13:52:00|   12|\n",
      "|     ThinkPad Laptop|410 Lincoln St, L...|   Los Angeles|   CA|  295676|           1|      999|2019-12-28 17:19:00|   12|\n",
      "|AA Batteries (4-p...|866 Pine St, Bost...|        Boston|   MA|  295677|           2|        3|2019-12-20 19:19:00|   12|\n",
      "|AAA Batteries (4-...|187 Lincoln St, D...|        Dallas|   TX|  295678|           2|        2|2019-12-06 09:38:00|   12|\n",
      "|USB-C Charging Cable|902 2nd St, Dalla...|        Dallas|   TX|  295679|           1|       11|2019-12-25 09:39:00|   12|\n",
      "|Lightning Chargin...|338 Main St, Aust...|        Austin|   TX|  295680|           1|       14|2019-12-01 14:30:00|   12|\n",
      "|        Google Phone|79 Elm St, Boston...|        Boston|   MA|  295681|           1|      600|2019-12-25 12:37:00|   12|\n",
      "|USB-C Charging Cable|79 Elm St, Boston...|        Boston|   MA|  295681|           1|       11|2019-12-25 12:37:00|   12|\n",
      "|Bose SoundSport H...|79 Elm St, Boston...|        Boston|   MA|  295681|           1|       99|2019-12-25 12:37:00|   12|\n",
      "|    Wired Headphones|79 Elm St, Boston...|        Boston|   MA|  295681|           1|       11|2019-12-25 12:37:00|   12|\n",
      "+--------------------+--------------------+--------------+-----+--------+------------+---------+-------------------+-----+\n",
      "only showing top 20 rows\n",
      "\n"
     ]
    }
   ],
   "source": [
    "sale2019_df = spark.read.parquet(full_path)\n",
    "sale2019_df.show()"
   ]
  },
  {
   "cell_type": "markdown",
   "metadata": {},
   "source": [
    "## câu hỏi 2 là: tháng nào thuận lợi nhất để sale "
   ]
  },
  {
   "cell_type": "code",
   "execution_count": 5,
   "metadata": {},
   "outputs": [
    {
     "name": "stderr",
     "output_type": "stream",
     "text": [
      "ERROR: Invalid requirement: 'seaborn=0.11'\n",
      "Hint: = is not a valid operator. Did you mean == ?\n",
      "WARNING: You are using pip version 21.3.1; however, version 22.3.1 is available.\n",
      "You should consider upgrading via the 'c:\\users\\admin\\appdata\\local\\programs\\python\\python37\\python.exe -m pip install --upgrade pip' command.\n"
     ]
    },
    {
     "name": "stdout",
     "output_type": "stream",
     "text": [
      "Requirement already satisfied: pandas in c:\\users\\admin\\appdata\\local\\programs\\python\\python37\\lib\\site-packages (1.3.4)\n",
      "Requirement already satisfied: python-dateutil>=2.7.3 in c:\\users\\admin\\appdata\\local\\programs\\python\\python37\\lib\\site-packages (from pandas) (2.8.2)\n",
      "Requirement already satisfied: pytz>=2017.3 in c:\\users\\admin\\appdata\\local\\programs\\python\\python37\\lib\\site-packages (from pandas) (2021.3)\n",
      "Requirement already satisfied: numpy>=1.17.3 in c:\\users\\admin\\appdata\\local\\programs\\python\\python37\\lib\\site-packages (from pandas) (1.21.4)\n",
      "Requirement already satisfied: six>=1.5 in c:\\users\\admin\\appdata\\local\\programs\\python\\python37\\lib\\site-packages (from python-dateutil>=2.7.3->pandas) (1.16.0)\n"
     ]
    },
    {
     "name": "stderr",
     "output_type": "stream",
     "text": [
      "WARNING: You are using pip version 21.3.1; however, version 22.3.1 is available.\n",
      "You should consider upgrading via the 'c:\\users\\admin\\appdata\\local\\programs\\python\\python37\\python.exe -m pip install --upgrade pip' command.\n"
     ]
    },
    {
     "name": "stdout",
     "output_type": "stream",
     "text": [
      "Requirement already satisfied: matplotlib in c:\\users\\admin\\appdata\\local\\programs\\python\\python37\\lib\\site-packages (3.5.1)\n",
      "Requirement already satisfied: fonttools>=4.22.0 in c:\\users\\admin\\appdata\\local\\programs\\python\\python37\\lib\\site-packages (from matplotlib) (4.28.5)\n",
      "Requirement already satisfied: python-dateutil>=2.7 in c:\\users\\admin\\appdata\\local\\programs\\python\\python37\\lib\\site-packages (from matplotlib) (2.8.2)\n",
      "Requirement already satisfied: numpy>=1.17 in c:\\users\\admin\\appdata\\local\\programs\\python\\python37\\lib\\site-packages (from matplotlib) (1.21.4)\n",
      "Requirement already satisfied: pyparsing>=2.2.1 in c:\\users\\admin\\appdata\\local\\programs\\python\\python37\\lib\\site-packages (from matplotlib) (3.0.6)\n",
      "Requirement already satisfied: cycler>=0.10 in c:\\users\\admin\\appdata\\local\\programs\\python\\python37\\lib\\site-packages (from matplotlib) (0.11.0)\n",
      "Requirement already satisfied: pillow>=6.2.0 in c:\\users\\admin\\appdata\\local\\programs\\python\\python37\\lib\\site-packages (from matplotlib) (9.0.0)\n",
      "Requirement already satisfied: kiwisolver>=1.0.1 in c:\\users\\admin\\appdata\\local\\programs\\python\\python37\\lib\\site-packages (from matplotlib) (1.3.2)\n",
      "Requirement already satisfied: packaging>=20.0 in c:\\users\\admin\\appdata\\local\\programs\\python\\python37\\lib\\site-packages (from matplotlib) (21.3)\n",
      "Requirement already satisfied: six>=1.5 in c:\\users\\admin\\appdata\\local\\programs\\python\\python37\\lib\\site-packages (from python-dateutil>=2.7->matplotlib) (1.16.0)\n"
     ]
    },
    {
     "name": "stderr",
     "output_type": "stream",
     "text": [
      "WARNING: You are using pip version 21.3.1; however, version 22.3.1 is available.\n",
      "You should consider upgrading via the 'c:\\users\\admin\\appdata\\local\\programs\\python\\python37\\python.exe -m pip install --upgrade pip' command.\n"
     ]
    }
   ],
   "source": [
    "!pip install seaborn=0.11\n",
    "!pip install pandas\n",
    "!pip install matplotlib"
   ]
  },
  {
   "cell_type": "code",
   "execution_count": 6,
   "metadata": {},
   "outputs": [],
   "source": [
    "from pyspark.sql.functions import round, sum\n",
    "import pandas as pd\n",
    "import matplotlib.pyplot as plt\n",
    "import seaborn as sns"
   ]
  },
  {
   "cell_type": "code",
   "execution_count": 7,
   "metadata": {},
   "outputs": [],
   "source": [
    "sale_df = (sale2019_df.select(\n",
    "                            col(\"Order_ID\"),\n",
    "                            col(\"Month\"),\n",
    "                            col(\"Price_pro\"),\n",
    "                            col(\"Quantity_pro\"),\n",
    "                            expr(\"Price_pro * Quantity_pro\").alias(\"Sales\")))"
   ]
  },
  {
   "cell_type": "code",
   "execution_count": 8,
   "metadata": {},
   "outputs": [
    {
     "name": "stdout",
     "output_type": "stream",
     "text": [
      "+--------+-----+---------+------------+-----+\n",
      "|Order_ID|Month|Price_pro|Quantity_pro|Sales|\n",
      "+--------+-----+---------+------------+-----+\n",
      "|  295665|   12|     1700|           1| 1700|\n",
      "|  295666|   12|      600|           1|  600|\n",
      "|  295667|   12|       11|           1|   11|\n",
      "|  295668|   12|      149|           1|  149|\n",
      "|  295669|   12|       11|           1|   11|\n",
      "|  295670|   12|        3|           1|    3|\n",
      "|  295671|   12|       11|           1|   11|\n",
      "|  295672|   12|       11|           2|   22|\n",
      "|  295673|   12|       99|           1|   99|\n",
      "|  295674|   12|        2|           4|    8|\n",
      "+--------+-----+---------+------------+-----+\n",
      "only showing top 10 rows\n",
      "\n"
     ]
    }
   ],
   "source": [
    "sale_df.show(10)"
   ]
  },
  {
   "cell_type": "markdown",
   "metadata": {},
   "source": [
    "thấy rằng ta cần so sánh tháng thì phải xem xét tháng"
   ]
  },
  {
   "cell_type": "code",
   "execution_count": 9,
   "metadata": {},
   "outputs": [],
   "source": [
    " sale_df = (sale_df\n",
    "           .groupBy(\"Month\")\n",
    "           .agg(round(sum(\"Sales\"),2).alias(\"Total Sale\"))\n",
    "           .orderBy(\"Total Sale\",ascending=False))"
   ]
  },
  {
   "cell_type": "code",
   "execution_count": 10,
   "metadata": {},
   "outputs": [
    {
     "name": "stdout",
     "output_type": "stream",
     "text": [
      "+-----+----------+\n",
      "|Month|Total Sale|\n",
      "+-----+----------+\n",
      "|   12|   4591824|\n",
      "|   10|   3719205|\n",
      "|    4|   3374951|\n",
      "|   11|   3184394|\n",
      "|    5|   3138287|\n",
      "|    3|   2794068|\n",
      "|    7|   2635443|\n",
      "|    6|   2566187|\n",
      "|    8|   2234194|\n",
      "|    2|   2191696|\n",
      "|    9|   2087435|\n",
      "|    1|   1805316|\n",
      "+-----+----------+\n",
      "\n"
     ]
    }
   ],
   "source": [
    "sale_df.show()"
   ]
  },
  {
   "cell_type": "markdown",
   "metadata": {},
   "source": [
    "nhìn qua ta thấy ngay được rằng tháng 12 là tháng mà nên sale nhất"
   ]
  },
  {
   "cell_type": "code",
   "execution_count": 11,
   "metadata": {},
   "outputs": [],
   "source": [
    "pandas_df = (sale_df.orderBy(\"Month\")).toPandas()"
   ]
  },
  {
   "cell_type": "code",
   "execution_count": 12,
   "metadata": {},
   "outputs": [
    {
     "data": {
      "text/html": [
       "<div>\n",
       "<style scoped>\n",
       "    .dataframe tbody tr th:only-of-type {\n",
       "        vertical-align: middle;\n",
       "    }\n",
       "\n",
       "    .dataframe tbody tr th {\n",
       "        vertical-align: top;\n",
       "    }\n",
       "\n",
       "    .dataframe thead th {\n",
       "        text-align: right;\n",
       "    }\n",
       "</style>\n",
       "<table border=\"1\" class=\"dataframe\">\n",
       "  <thead>\n",
       "    <tr style=\"text-align: right;\">\n",
       "      <th></th>\n",
       "      <th>Month</th>\n",
       "      <th>Total Sale</th>\n",
       "    </tr>\n",
       "  </thead>\n",
       "  <tbody>\n",
       "    <tr>\n",
       "      <th>0</th>\n",
       "      <td>1</td>\n",
       "      <td>1805316</td>\n",
       "    </tr>\n",
       "    <tr>\n",
       "      <th>1</th>\n",
       "      <td>2</td>\n",
       "      <td>2191696</td>\n",
       "    </tr>\n",
       "    <tr>\n",
       "      <th>2</th>\n",
       "      <td>3</td>\n",
       "      <td>2794068</td>\n",
       "    </tr>\n",
       "    <tr>\n",
       "      <th>3</th>\n",
       "      <td>4</td>\n",
       "      <td>3374951</td>\n",
       "    </tr>\n",
       "    <tr>\n",
       "      <th>4</th>\n",
       "      <td>5</td>\n",
       "      <td>3138287</td>\n",
       "    </tr>\n",
       "    <tr>\n",
       "      <th>5</th>\n",
       "      <td>6</td>\n",
       "      <td>2566187</td>\n",
       "    </tr>\n",
       "    <tr>\n",
       "      <th>6</th>\n",
       "      <td>7</td>\n",
       "      <td>2635443</td>\n",
       "    </tr>\n",
       "    <tr>\n",
       "      <th>7</th>\n",
       "      <td>8</td>\n",
       "      <td>2234194</td>\n",
       "    </tr>\n",
       "    <tr>\n",
       "      <th>8</th>\n",
       "      <td>9</td>\n",
       "      <td>2087435</td>\n",
       "    </tr>\n",
       "    <tr>\n",
       "      <th>9</th>\n",
       "      <td>10</td>\n",
       "      <td>3719205</td>\n",
       "    </tr>\n",
       "    <tr>\n",
       "      <th>10</th>\n",
       "      <td>11</td>\n",
       "      <td>3184394</td>\n",
       "    </tr>\n",
       "    <tr>\n",
       "      <th>11</th>\n",
       "      <td>12</td>\n",
       "      <td>4591824</td>\n",
       "    </tr>\n",
       "  </tbody>\n",
       "</table>\n",
       "</div>"
      ],
      "text/plain": [
       "    Month  Total Sale\n",
       "0       1     1805316\n",
       "1       2     2191696\n",
       "2       3     2794068\n",
       "3       4     3374951\n",
       "4       5     3138287\n",
       "5       6     2566187\n",
       "6       7     2635443\n",
       "7       8     2234194\n",
       "8       9     2087435\n",
       "9      10     3719205\n",
       "10     11     3184394\n",
       "11     12     4591824"
      ]
     },
     "execution_count": 12,
     "metadata": {},
     "output_type": "execute_result"
    }
   ],
   "source": [
    "pandas_df"
   ]
  },
  {
   "cell_type": "code",
   "execution_count": 13,
   "metadata": {},
   "outputs": [
    {
     "data": {
      "image/png": "[encoded data removed]",
      "text/plain": [
       "<Figure size 720x432 with 1 Axes>"
      ]
     },
     "metadata": {
      "needs_background": "light"
     },
     "output_type": "display_data"
    }
   ],
   "source": [
    "plt.figure(figsize=(10,6))\n",
    "plt.ticklabel_format(useOffset=False,style=\"plain\")\n",
    "sns.barplot(x=\"Month\",y=\"Total Sale\",data=pandas_df).set_title(\"total sales per month\")\n",
    "plt.ylabel(\"Total Sale\")\n",
    "plt.show()"
   ]
  },
  {
   "cell_type": "code",
   "execution_count": 18,
   "metadata": {},
   "outputs": [
    {
     "data": {
      "text/plain": [
       "<bound method DataFrame.printSchema of DataFrame[Year: string, Month: string, DayofMonth: string, DayOfWeek: string, DepTime: string, CRSDepTime: string, ArrTime: string, CRSArrTime: string, UniqueCarrier: string, FlightNum: string, TailNum: string, ActualElapsedTime: string, CRSElapsedTime: string, AirTime: string, ArrDelay: string, DepDelay: string, Origin: string, Dest: string, Distance: string, TaxiIn: string, TaxiOut: string, Cancelled: string, CancellationCode: string, Diverted: string, CarrierDelay: string, WeatherDelay: string, NASDelay: string, SecurityDelay: string, LateAircraftDelay: string]>"
      ]
     },
     "execution_count": 18,
     "metadata": {},
     "output_type": "execute_result"
    }
   ],
   "source": [
    "sale_dim = spark.read.format(\"csv\").option(\"header\",True).load(\"export.csv\")\n",
    "sale_dim.printSchema"
   ]
  },
  {
   "cell_type": "code",
   "execution_count": 20,
   "metadata": {},
   "outputs": [
    {
     "name": "stdout",
     "output_type": "stream",
     "text": [
      "== Physical Plan ==\n",
      "*(2) BroadcastHashJoin [Month#8], [cast(Month#413 as int)], Inner, BuildRight\n",
      ":- *(2) ColumnarToRow\n",
      ":  +- FileScan parquet [Product#0,StoreAddress#1,City#2,State#3,Order_ID#4,Quantity_pro#5,Price_pro#6,Order_Date#7,Month#8] Batched: true, DataFilters: [], Format: Parquet, Location: InMemoryFileIndex[file:/D:/CODE/python/spark3/Section4/challenge2/Year=2019], PartitionFilters: [isnotnull(Month#8)], PushedFilters: [], ReadSchema: struct<Product:string,StoreAddress:string,City:string,State:string,Order_ID:int,Quantity_pro:int,...\n",
      "+- BroadcastExchange HashedRelationBroadcastMode(List(cast(cast(input[1, string, true] as int) as bigint))), [id=#237]\n",
      "   +- *(1) Project [Year#412, Month#413, DayofMonth#414, DayOfWeek#415, DepTime#416, CRSDepTime#417, ArrTime#418, CRSArrTime#419, UniqueCarrier#420, FlightNum#421, TailNum#422, ActualElapsedTime#423, CRSElapsedTime#424, AirTime#425, ArrDelay#426, DepDelay#427, Origin#428, Dest#429, Distance#430, TaxiIn#431, TaxiOut#432, Cancelled#433, CancellationCode#434, Diverted#435, ... 5 more fields]\n",
      "      +- *(1) Filter isnotnull(Month#413)\n",
      "         +- FileScan csv [Year#412,Month#413,DayofMonth#414,DayOfWeek#415,DepTime#416,CRSDepTime#417,ArrTime#418,CRSArrTime#419,UniqueCarrier#420,FlightNum#421,TailNum#422,ActualElapsedTime#423,CRSElapsedTime#424,AirTime#425,ArrDelay#426,DepDelay#427,Origin#428,Dest#429,Distance#430,TaxiIn#431,TaxiOut#432,Cancelled#433,CancellationCode#434,Diverted#435,... 5 more fields] Batched: false, DataFilters: [isnotnull(Month#413)], Format: CSV, Location: InMemoryFileIndex[file:/D:/CODE/python/spark3/Section4/export.csv], PartitionFilters: [], PushedFilters: [IsNotNull(Month)], ReadSchema: struct<Year:string,Month:string,DayofMonth:string,DayOfWeek:string,DepTime:string,CRSDepTime:stri...\n",
      "\n",
      "\n"
     ]
    }
   ],
   "source": [
    "df_join = sale2019_df.join(sale_dim,sale2019_df.Month ==  sale_dim.Month,\"inner\");\n",
    "df_join.explain()"
   ]
  }
 ],
 "metadata": {
  "kernelspec": {
   "display_name": "Python 3",
   "language": "python",
   "name": "python3"
  },
  "language_info": {
   "codemirror_mode": {
    "name": "ipython",
    "version": 3
   },
   "file_extension": ".py",
   "mimetype": "text/x-python",
   "name": "python",
   "nbconvert_exporter": "python",
   "pygments_lexer": "ipython3",
   "version": "3.7.1"
  }
 },
 "nbformat": 4,
 "nbformat_minor": 2
}
