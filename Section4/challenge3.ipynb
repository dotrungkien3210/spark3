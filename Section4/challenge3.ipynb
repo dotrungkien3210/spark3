{
 "cells": [
  {
   "cell_type": "code",
   "execution_count": 54,
   "metadata": {},
   "outputs": [],
   "source": [
    "from pyspark.sql import SparkSession\n",
    "from pyspark.sql.functions import col,expr"
   ]
  },
  {
   "cell_type": "code",
   "execution_count": 55,
   "metadata": {},
   "outputs": [],
   "source": [
    "spark = (spark.builder.appName(\"sale_data\").getOrCreate())"
   ]
  },
  {
   "cell_type": "markdown",
   "metadata": {},
   "source": [
    "câu hỏi 1: đọc dữ liệu 2019 từ file parquet"
   ]
  },
  {
   "cell_type": "code",
   "execution_count": 56,
   "metadata": {},
   "outputs": [],
   "source": [
    "source_data_path = \"challenge2/\"\n",
    "partition = \"Year=2019\"\n",
    "full_path = f\"{source_data_path}{partition}\""
   ]
  },
  {
   "cell_type": "code",
   "execution_count": 57,
   "metadata": {},
   "outputs": [
    {
     "name": "stdout",
     "output_type": "stream",
     "text": [
      "+--------------------+--------------------+--------------+-----+--------+------------+---------+-------------------+-----+\n",
      "|             Product|        StoreAddress|          City|State|Order_ID|Quantity_pro|Price_pro|         Order_Date|Month|\n",
      "+--------------------+--------------------+--------------+-----+--------+------------+---------+-------------------+-----+\n",
      "|  Macbook Pro Laptop|136 Church St, Ne...| New York City|   NY|  295665|           1|     1700|2019-12-30 00:01:00|   12|\n",
      "|  LG Washing Machine|562 2nd St, New Y...| New York City|   NY|  295666|           1|      600|2019-12-29 07:03:00|   12|\n",
      "|USB-C Charging Cable|277 Main St, New ...| New York City|   NY|  295667|           1|       11|2019-12-12 18:21:00|   12|\n",
      "|    27in FHD Monitor|410 6th St, San F...| San Francisco|   CA|  295668|           1|      149|2019-12-22 15:13:00|   12|\n",
      "|USB-C Charging Cable|43 Hill St, Atlan...|       Atlanta|   GA|  295669|           1|       11|2019-12-18 12:38:00|   12|\n",
      "|AA Batteries (4-p...|200 Jefferson St,...| New York City|   NY|  295670|           1|        3|2019-12-31 22:58:00|   12|\n",
      "|USB-C Charging Cable|928 12th St, Port...|      Portland|   OR|  295671|           1|       11|2019-12-16 15:10:00|   12|\n",
      "|USB-C Charging Cable|813 Hickory St, D...|        Dallas|   TX|  295672|           2|       11|2019-12-13 09:29:00|   12|\n",
      "|Bose SoundSport H...|718 Wilson St, Da...|        Dallas|   TX|  295673|           1|       99|2019-12-15 23:26:00|   12|\n",
      "|AAA Batteries (4-...|77 7th St, Dallas...|        Dallas|   TX|  295674|           4|        2|2019-12-28 11:51:00|   12|\n",
      "|USB-C Charging Cable|594 1st St, San F...| San Francisco|   CA|  295675|           2|       11|2019-12-13 13:52:00|   12|\n",
      "|     ThinkPad Laptop|410 Lincoln St, L...|   Los Angeles|   CA|  295676|           1|      999|2019-12-28 17:19:00|   12|\n",
      "|AA Batteries (4-p...|866 Pine St, Bost...|        Boston|   MA|  295677|           2|        3|2019-12-20 19:19:00|   12|\n",
      "|AAA Batteries (4-...|187 Lincoln St, D...|        Dallas|   TX|  295678|           2|        2|2019-12-06 09:38:00|   12|\n",
      "|USB-C Charging Cable|902 2nd St, Dalla...|        Dallas|   TX|  295679|           1|       11|2019-12-25 09:39:00|   12|\n",
      "|Lightning Chargin...|338 Main St, Aust...|        Austin|   TX|  295680|           1|       14|2019-12-01 14:30:00|   12|\n",
      "|        Google Phone|79 Elm St, Boston...|        Boston|   MA|  295681|           1|      600|2019-12-25 12:37:00|   12|\n",
      "|USB-C Charging Cable|79 Elm St, Boston...|        Boston|   MA|  295681|           1|       11|2019-12-25 12:37:00|   12|\n",
      "|Bose SoundSport H...|79 Elm St, Boston...|        Boston|   MA|  295681|           1|       99|2019-12-25 12:37:00|   12|\n",
      "|    Wired Headphones|79 Elm St, Boston...|        Boston|   MA|  295681|           1|       11|2019-12-25 12:37:00|   12|\n",
      "+--------------------+--------------------+--------------+-----+--------+------------+---------+-------------------+-----+\n",
      "only showing top 20 rows\n",
      "\n"
     ]
    }
   ],
   "source": [
    "sale2019_df = spark.read.parquet(full_path)\n",
    "sale2019_df.show()"
   ]
  },
  {
   "cell_type": "markdown",
   "metadata": {},
   "source": [
    "## câu hỏi 2 là: tháng nào thuận lợi nhất để sale "
   ]
  },
  {
   "cell_type": "code",
   "execution_count": null,
   "metadata": {},
   "outputs": [],
   "source": [
    "!pip uninstall seaborn\n",
    "!conda install seaborn=0.11\n",
    "!pip install pandas\n",
    "!pip install matplotlib"
   ]
  },
  {
   "cell_type": "code",
   "execution_count": 59,
   "metadata": {},
   "outputs": [],
   "source": [
    "from pyspark.sql.functions import round, sum\n",
    "import pandas as pd\n",
    "import matplotlib.pyplot as plt\n",
    "import seaborn as sns"
   ]
  },
  {
   "cell_type": "code",
   "execution_count": 60,
   "metadata": {},
   "outputs": [],
   "source": [
    "sale_df = (sale2019_df.select(\n",
    "                            col(\"Order_ID\"),\n",
    "                            col(\"Month\"),\n",
    "                            col(\"Price_pro\"),\n",
    "                            col(\"Quantity_pro\"),\n",
    "                            expr(\"Price_pro * Quantity_pro\").alias(\"Sales\")))"
   ]
  },
  {
   "cell_type": "code",
   "execution_count": 61,
   "metadata": {},
   "outputs": [
    {
     "name": "stdout",
     "output_type": "stream",
     "text": [
      "+--------+-----+---------+------------+-----+\n",
      "|Order_ID|Month|Price_pro|Quantity_pro|Sales|\n",
      "+--------+-----+---------+------------+-----+\n",
      "|  295665|   12|     1700|           1| 1700|\n",
      "|  295666|   12|      600|           1|  600|\n",
      "|  295667|   12|       11|           1|   11|\n",
      "|  295668|   12|      149|           1|  149|\n",
      "|  295669|   12|       11|           1|   11|\n",
      "|  295670|   12|        3|           1|    3|\n",
      "|  295671|   12|       11|           1|   11|\n",
      "|  295672|   12|       11|           2|   22|\n",
      "|  295673|   12|       99|           1|   99|\n",
      "|  295674|   12|        2|           4|    8|\n",
      "+--------+-----+---------+------------+-----+\n",
      "only showing top 10 rows\n",
      "\n"
     ]
    }
   ],
   "source": [
    "sale_df.show(10)"
   ]
  },
  {
   "cell_type": "markdown",
   "metadata": {},
   "source": [
    "thấy rằng ta cần so sánh tháng thì phải xem xét tháng"
   ]
  },
  {
   "cell_type": "code",
   "execution_count": 62,
   "metadata": {},
   "outputs": [],
   "source": [
    " sale_df = (sale_df\n",
    "           .groupBy(\"Month\")\n",
    "           .agg(round(sum(\"Sales\"),2).alias(\"Total Sale\"))\n",
    "           .orderBy(\"Total Sale\",ascending=False))"
   ]
  },
  {
   "cell_type": "code",
   "execution_count": 63,
   "metadata": {},
   "outputs": [
    {
     "name": "stdout",
     "output_type": "stream",
     "text": [
      "+-----+----------+\n",
      "|Month|Total Sale|\n",
      "+-----+----------+\n",
      "|   12|   4591824|\n",
      "|   10|   3719205|\n",
      "|    4|   3374951|\n",
      "|   11|   3184394|\n",
      "|    5|   3138287|\n",
      "|    3|   2794068|\n",
      "|    7|   2635443|\n",
      "|    6|   2566187|\n",
      "|    8|   2234194|\n",
      "|    2|   2191696|\n",
      "|    9|   2087435|\n",
      "|    1|   1805316|\n",
      "+-----+----------+\n",
      "\n"
     ]
    }
   ],
   "source": [
    "sale_df.show()"
   ]
  },
  {
   "cell_type": "markdown",
   "metadata": {},
   "source": [
    "nhìn qua ta thấy ngay được rằng tháng 12 là tháng mà nên sale nhất"
   ]
  },
  {
   "cell_type": "code",
   "execution_count": 64,
   "metadata": {},
   "outputs": [],
   "source": [
    "pandas_df = (sale_df.orderBy(\"Month\")).toPandas()"
   ]
  },
  {
   "cell_type": "code",
   "execution_count": 65,
   "metadata": {},
   "outputs": [
    {
     "data": {
      "text/html": [
       "<div>\n",
       "<style scoped>\n",
       "    .dataframe tbody tr th:only-of-type {\n",
       "        vertical-align: middle;\n",
       "    }\n",
       "\n",
       "    .dataframe tbody tr th {\n",
       "        vertical-align: top;\n",
       "    }\n",
       "\n",
       "    .dataframe thead th {\n",
       "        text-align: right;\n",
       "    }\n",
       "</style>\n",
       "<table border=\"1\" class=\"dataframe\">\n",
       "  <thead>\n",
       "    <tr style=\"text-align: right;\">\n",
       "      <th></th>\n",
       "      <th>Month</th>\n",
       "      <th>Total Sale</th>\n",
       "    </tr>\n",
       "  </thead>\n",
       "  <tbody>\n",
       "    <tr>\n",
       "      <th>0</th>\n",
       "      <td>1</td>\n",
       "      <td>1805316</td>\n",
       "    </tr>\n",
       "    <tr>\n",
       "      <th>1</th>\n",
       "      <td>2</td>\n",
       "      <td>2191696</td>\n",
       "    </tr>\n",
       "    <tr>\n",
       "      <th>2</th>\n",
       "      <td>3</td>\n",
       "      <td>2794068</td>\n",
       "    </tr>\n",
       "    <tr>\n",
       "      <th>3</th>\n",
       "      <td>4</td>\n",
       "      <td>3374951</td>\n",
       "    </tr>\n",
       "    <tr>\n",
       "      <th>4</th>\n",
       "      <td>5</td>\n",
       "      <td>3138287</td>\n",
       "    </tr>\n",
       "    <tr>\n",
       "      <th>5</th>\n",
       "      <td>6</td>\n",
       "      <td>2566187</td>\n",
       "    </tr>\n",
       "    <tr>\n",
       "      <th>6</th>\n",
       "      <td>7</td>\n",
       "      <td>2635443</td>\n",
       "    </tr>\n",
       "    <tr>\n",
       "      <th>7</th>\n",
       "      <td>8</td>\n",
       "      <td>2234194</td>\n",
       "    </tr>\n",
       "    <tr>\n",
       "      <th>8</th>\n",
       "      <td>9</td>\n",
       "      <td>2087435</td>\n",
       "    </tr>\n",
       "    <tr>\n",
       "      <th>9</th>\n",
       "      <td>10</td>\n",
       "      <td>3719205</td>\n",
       "    </tr>\n",
       "    <tr>\n",
       "      <th>10</th>\n",
       "      <td>11</td>\n",
       "      <td>3184394</td>\n",
       "    </tr>\n",
       "    <tr>\n",
       "      <th>11</th>\n",
       "      <td>12</td>\n",
       "      <td>4591824</td>\n",
       "    </tr>\n",
       "  </tbody>\n",
       "</table>\n",
       "</div>"
      ],
      "text/plain": [
       "    Month  Total Sale\n",
       "0       1     1805316\n",
       "1       2     2191696\n",
       "2       3     2794068\n",
       "3       4     3374951\n",
       "4       5     3138287\n",
       "5       6     2566187\n",
       "6       7     2635443\n",
       "7       8     2234194\n",
       "8       9     2087435\n",
       "9      10     3719205\n",
       "10     11     3184394\n",
       "11     12     4591824"
      ]
     },
     "execution_count": 65,
     "metadata": {},
     "output_type": "execute_result"
    }
   ],
   "source": [
    "pandas_df"
   ]
  },
  {
   "cell_type": "code",
   "execution_count": 68,
   "metadata": {},
   "outputs": [
    {
     "ename": "AttributeError",
     "evalue": "module 'seaborn' has no attribute 'set_theme'",
     "output_type": "error",
     "traceback": [
      "\u001b[1;31m---------------------------------------------------------------------------\u001b[0m",
      "\u001b[1;31mAttributeError\u001b[0m                            Traceback (most recent call last)",
      "\u001b[1;32m<ipython-input-68-aabebe667f58>\u001b[0m in \u001b[0;36m<module>\u001b[1;34m\u001b[0m\n\u001b[0;32m      1\u001b[0m \u001b[0mplt\u001b[0m\u001b[1;33m.\u001b[0m\u001b[0mfigure\u001b[0m\u001b[1;33m(\u001b[0m\u001b[0mfigsize\u001b[0m\u001b[1;33m=\u001b[0m\u001b[1;33m(\u001b[0m\u001b[1;36m10\u001b[0m\u001b[1;33m,\u001b[0m\u001b[1;36m6\u001b[0m\u001b[1;33m)\u001b[0m\u001b[1;33m)\u001b[0m\u001b[1;33m\u001b[0m\u001b[1;33m\u001b[0m\u001b[0m\n\u001b[0;32m      2\u001b[0m \u001b[0mplt\u001b[0m\u001b[1;33m.\u001b[0m\u001b[0mticklabel_format\u001b[0m\u001b[1;33m(\u001b[0m\u001b[0museOffset\u001b[0m\u001b[1;33m=\u001b[0m\u001b[1;32mFalse\u001b[0m\u001b[1;33m,\u001b[0m\u001b[0mstyle\u001b[0m\u001b[1;33m=\u001b[0m\u001b[1;34m\"plain\"\u001b[0m\u001b[1;33m)\u001b[0m\u001b[1;33m\u001b[0m\u001b[1;33m\u001b[0m\u001b[0m\n\u001b[1;32m----> 3\u001b[1;33m \u001b[0msns\u001b[0m\u001b[1;33m.\u001b[0m\u001b[0mset_theme\u001b[0m\u001b[1;33m(\u001b[0m\u001b[0mstyle\u001b[0m\u001b[1;33m=\u001b[0m\u001b[1;34m\"whitegrid\"\u001b[0m\u001b[1;33m)\u001b[0m\u001b[1;33m\u001b[0m\u001b[1;33m\u001b[0m\u001b[0m\n\u001b[0m\u001b[0;32m      4\u001b[0m \u001b[0msns\u001b[0m\u001b[1;33m.\u001b[0m\u001b[0mbarplot\u001b[0m\u001b[1;33m(\u001b[0m\u001b[0mx\u001b[0m\u001b[1;33m=\u001b[0m\u001b[1;34m\"Month\"\u001b[0m\u001b[1;33m,\u001b[0m\u001b[0my\u001b[0m\u001b[1;33m=\u001b[0m\u001b[1;34m\"Total Sale\"\u001b[0m\u001b[1;33m,\u001b[0m\u001b[0mdata\u001b[0m\u001b[1;33m=\u001b[0m\u001b[0mpandas_df\u001b[0m\u001b[1;33m)\u001b[0m\u001b[1;33m.\u001b[0m\u001b[0mset_title\u001b[0m\u001b[1;33m(\u001b[0m\u001b[1;34m\"total sales per month\"\u001b[0m\u001b[1;33m)\u001b[0m\u001b[1;33m\u001b[0m\u001b[1;33m\u001b[0m\u001b[0m\n\u001b[0;32m      5\u001b[0m \u001b[0mplt\u001b[0m\u001b[1;33m.\u001b[0m\u001b[0mshow\u001b[0m\u001b[1;33m(\u001b[0m\u001b[1;33m)\u001b[0m\u001b[1;33m\u001b[0m\u001b[1;33m\u001b[0m\u001b[0m\n",
      "\u001b[1;31mAttributeError\u001b[0m: module 'seaborn' has no attribute 'set_theme'"
     ]
    },
    {
     "data": {
      "image/png": "[encoded data removed]",
      "text/plain": [
       "<Figure size 720x432 with 1 Axes>"
      ]
     },
     "metadata": {
      "needs_background": "light"
     },
     "output_type": "display_data"
    }
   ],
   "source": [
    "plt.figure(figsize=(10,6))\n",
    "plt.ticklabel_format(useOffset=False,style=\"plain\")\n",
    "sns.set_theme(style=\"whitegrid\")\n",
    "sns.barplot(x=\"Month\",y=\"Total Sale\",data=pandas_df).set_title(\"total sales per month\")\n",
    "plt.ylabel(\"Total Sale\")\n",
    "plt.show()"
   ]
  },
  {
   "cell_type": "code",
   "execution_count": null,
   "metadata": {},
   "outputs": [],
   "source": []
  }
 ],
 "metadata": {
  "kernelspec": {
   "display_name": "Python 3",
   "language": "python",
   "name": "python3"
  },
  "language_info": {
   "codemirror_mode": {
    "name": "ipython",
    "version": 3
   },
   "file_extension": ".py",
   "mimetype": "text/x-python",
   "name": "python",
   "nbconvert_exporter": "python",
   "pygments_lexer": "ipython3",
   "version": "3.7.1"
  }
 },
 "nbformat": 4,
 "nbformat_minor": 2
}
