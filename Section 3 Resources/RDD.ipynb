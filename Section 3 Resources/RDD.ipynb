{
 "cells": [
  {
   "cell_type": "markdown",
   "metadata": {},
   "source": [
    "RDD là Resilient distributed data hay dữ liệu phân tán<br>\n",
    "API là viết tắt của Application Programming Interface – phương thức trung gian kết nối các ứng dụng và thư viện khác nhau.<br>"
   ]
  },
  {
   "cell_type": "code",
   "execution_count": 30,
   "metadata": {},
   "outputs": [],
   "source": [
    "#import findspark\n",
    "#findspark.init('C:/Users/Admin/Documents/spark')\n",
    "from pyspark.sql import SparkSession\n",
    "spark = (SparkSession.builder.appName(\"TestingRDDs\").getOrCreate())"
   ]
  },
  {
   "cell_type": "code",
   "execution_count": 31,
   "metadata": {},
   "outputs": [],
   "source": [
    "word_list  = \"cach ma spark xu ly du lieu song song, RDD la tep du lieu phan tan\".split(\" \")"
   ]
  },
  {
   "cell_type": "code",
   "execution_count": 32,
   "metadata": {},
   "outputs": [
    {
     "name": "stdout",
     "output_type": "stream",
     "text": [
      "['cach', 'ma', 'spark', 'xu', 'ly', 'du', 'lieu', 'song', 'song,', 'RDD', 'la', 'tep', 'du', 'lieu', 'phan', 'tan']\n"
     ]
    }
   ],
   "source": [
    "print(word_list)"
   ]
  },
  {
   "cell_type": "code",
   "execution_count": 33,
   "metadata": {},
   "outputs": [
    {
     "data": {
      "text/plain": [
       "list"
      ]
     },
     "execution_count": 33,
     "metadata": {},
     "output_type": "execute_result"
    }
   ],
   "source": [
    "type(word_list)"
   ]
  },
  {
   "cell_type": "code",
   "execution_count": 34,
   "metadata": {},
   "outputs": [],
   "source": [
    "words_rdd = spark.sparkContext.parallelize(word_list)"
   ]
  },
  {
   "cell_type": "code",
   "execution_count": 35,
   "metadata": {},
   "outputs": [
    {
     "data": {
      "text/plain": [
       "pyspark.rdd.RDD"
      ]
     },
     "execution_count": 35,
     "metadata": {},
     "output_type": "execute_result"
    }
   ],
   "source": [
    "type(words_rdd)"
   ]
  },
  {
   "cell_type": "code",
   "execution_count": 36,
   "metadata": {},
   "outputs": [],
   "source": [
    "words_data = words_rdd.collect()"
   ]
  },
  {
   "cell_type": "code",
   "execution_count": 37,
   "metadata": {},
   "outputs": [
    {
     "data": {
      "text/plain": [
       "list"
      ]
     },
     "execution_count": 37,
     "metadata": {},
     "output_type": "execute_result"
    }
   ],
   "source": [
    "type(words_data)"
   ]
  },
  {
   "cell_type": "code",
   "execution_count": 38,
   "metadata": {},
   "outputs": [
    {
     "name": "stdout",
     "output_type": "stream",
     "text": [
      "['cach', 'ma', 'spark', 'xu', 'ly', 'du', 'lieu', 'song', 'song,', 'RDD', 'la', 'tep', 'du', 'lieu', 'phan', 'tan']\n"
     ]
    }
   ],
   "source": [
    "print(words_data)"
   ]
  },
  {
   "cell_type": "code",
   "execution_count": 39,
   "metadata": {},
   "outputs": [
    {
     "name": "stdout",
     "output_type": "stream",
     "text": [
      "cach\n",
      "ma\n",
      "spark\n",
      "xu\n",
      "ly\n",
      "du\n",
      "lieu\n",
      "song\n",
      "song,\n",
      "RDD\n",
      "la\n",
      "tep\n",
      "du\n",
      "lieu\n",
      "phan\n",
      "tan\n"
     ]
    }
   ],
   "source": [
    "for word in words_data:\n",
    "    print(word)"
   ]
  },
  {
   "cell_type": "markdown",
   "metadata": {},
   "source": [
    "ta thấy từ \"lieu\" \"du\" và từ \"song\" đã bị lặp lại 2 lần vậy ta xem spark có thể xoá bản ghi trùng lặp không<br>\n",
    "distinct() giúp loại bỏ trùng lặp không cần thiết khi dữ liệu collect về<br>"
   ]
  },
  {
   "cell_type": "code",
   "execution_count": 40,
   "metadata": {},
   "outputs": [],
   "source": [
    "word_unique = words_rdd.distinct()"
   ]
  },
  {
   "cell_type": "code",
   "execution_count": 41,
   "metadata": {},
   "outputs": [
    {
     "name": "stdout",
     "output_type": "stream",
     "text": [
      "ly\n",
      "du\n",
      "lieu\n",
      "ma\n",
      "spark\n",
      "xu\n",
      "RDD\n",
      "la\n",
      "song,\n",
      "tep\n",
      "phan\n",
      "cach\n",
      "song\n",
      "tan\n"
     ]
    }
   ],
   "source": [
    "for word in word_unique.collect():\n",
    "    print(word)"
   ]
  },
  {
   "cell_type": "code",
   "execution_count": 42,
   "metadata": {},
   "outputs": [
    {
     "data": {
      "text/plain": [
       "16"
      ]
     },
     "execution_count": 42,
     "metadata": {},
     "output_type": "execute_result"
    }
   ],
   "source": [
    "words_rdd.count()"
   ]
  },
  {
   "cell_type": "code",
   "execution_count": 43,
   "metadata": {},
   "outputs": [
    {
     "data": {
      "text/plain": [
       "14"
      ]
     },
     "execution_count": 43,
     "metadata": {},
     "output_type": "execute_result"
    }
   ],
   "source": [
    "word_unique.distinct().count()"
   ]
  },
  {
   "cell_type": "code",
   "execution_count": 44,
   "metadata": {},
   "outputs": [],
   "source": [
    "def filterword(word,letter):\n",
    "    return word.startswith(letter)"
   ]
  },
  {
   "cell_type": "markdown",
   "metadata": {},
   "source": [
    "filter() giúp lọc ra dữ liệu mà mình cần thiết<br>"
   ]
  },
  {
   "cell_type": "code",
   "execution_count": 45,
   "metadata": {},
   "outputs": [
    {
     "data": {
      "text/plain": [
       "['spark', 'song', 'song,']"
      ]
     },
     "execution_count": 45,
     "metadata": {},
     "output_type": "execute_result"
    }
   ],
   "source": [
    "words_rdd.filter(lambda word: filterword(word,\"s\")).collect()"
   ]
  },
  {
   "cell_type": "markdown",
   "metadata": {},
   "source": [
    "map()<br>\n",
    "flatmap()"
   ]
  },
  {
   "cell_type": "code",
   "execution_count": 46,
   "metadata": {},
   "outputs": [],
   "source": [
    "word_get = words_rdd.flatMap(lambda word:(word,word[0],filterword(word,\"s\")))"
   ]
  },
  {
   "cell_type": "code",
   "execution_count": 47,
   "metadata": {},
   "outputs": [
    {
     "name": "stdout",
     "output_type": "stream",
     "text": [
      "cach\n",
      "c\n",
      "False\n",
      "ma\n",
      "m\n",
      "False\n",
      "spark\n",
      "s\n",
      "True\n",
      "xu\n",
      "x\n",
      "False\n",
      "ly\n",
      "l\n",
      "False\n",
      "du\n",
      "d\n",
      "False\n",
      "lieu\n",
      "l\n",
      "False\n",
      "song\n",
      "s\n",
      "True\n",
      "song,\n",
      "s\n",
      "True\n",
      "RDD\n",
      "R\n",
      "False\n",
      "la\n",
      "l\n",
      "False\n",
      "tep\n",
      "t\n",
      "False\n",
      "du\n",
      "d\n",
      "False\n",
      "lieu\n",
      "l\n",
      "False\n",
      "phan\n",
      "p\n",
      "False\n",
      "tan\n",
      "t\n",
      "False\n"
     ]
    }
   ],
   "source": [
    "for element in word_get.collect():\n",
    "    print(element)"
   ]
  },
  {
   "cell_type": "code",
   "execution_count": 48,
   "metadata": {},
   "outputs": [
    {
     "data": {
      "text/plain": [
       "['c', 'a', 'c', 'h', 'm', 'a', 's', 'p', 'a', 'r']"
      ]
     },
     "execution_count": 48,
     "metadata": {},
     "output_type": "execute_result"
    }
   ],
   "source": [
    "words_rdd.flatMap(lambda word:list(word)).take(10)"
   ]
  },
  {
   "cell_type": "code",
   "execution_count": 49,
   "metadata": {},
   "outputs": [],
   "source": [
    "countries_list = [(\"india\",91),(\"usa\",4),(\"Green\",13)]\n",
    "country_rdd = spark.sparkContext.parallelize(countries_list)"
   ]
  },
  {
   "cell_type": "code",
   "execution_count": 50,
   "metadata": {},
   "outputs": [
    {
     "name": "stdout",
     "output_type": "stream",
     "text": [
      "ParallelCollectionRDD[48] at readRDDFromFile at PythonRDD.scala:262\n",
      "<class 'pyspark.rdd.RDD'>\n"
     ]
    }
   ],
   "source": [
    "print(country_rdd)\n",
    "print(type(country_rdd))"
   ]
  },
  {
   "cell_type": "code",
   "execution_count": 51,
   "metadata": {},
   "outputs": [],
   "source": [
    "sort_country = country_rdd.sortByKey().collect()"
   ]
  },
  {
   "cell_type": "code",
   "execution_count": 52,
   "metadata": {},
   "outputs": [
    {
     "name": "stdout",
     "output_type": "stream",
     "text": [
      "('Green', 13)\n",
      "('india', 91)\n",
      "('usa', 4)\n"
     ]
    }
   ],
   "source": [
    "# sort theo chữ đầu tiên trong tuple đó\n",
    "for country in sort_country:\n",
    "    print(country)"
   ]
  },
  {
   "cell_type": "code",
   "execution_count": 53,
   "metadata": {},
   "outputs": [],
   "source": [
    "sort_list = country_rdd.map(lambda c:(c[1],c[0])).sortByKey(False).collect()"
   ]
  },
  {
   "cell_type": "code",
   "execution_count": 54,
   "metadata": {},
   "outputs": [
    {
     "name": "stdout",
     "output_type": "stream",
     "text": [
      "(91, 'india')\n",
      "(13, 'Green')\n",
      "(4, 'usa')\n"
     ]
    }
   ],
   "source": [
    "# sort theo chữ mình chọn\n",
    "for country in sort_list:\n",
    "    print(country)"
   ]
  },
  {
   "cell_type": "code",
   "execution_count": 55,
   "metadata": {},
   "outputs": [],
   "source": [
    "num_list = [1,5,2,3,4]"
   ]
  },
  {
   "cell_type": "code",
   "execution_count": 56,
   "metadata": {},
   "outputs": [
    {
     "name": "stdout",
     "output_type": "stream",
     "text": [
      "ParallelCollectionRDD[63] at readRDDFromFile at PythonRDD.scala:262\n"
     ]
    }
   ],
   "source": [
    "result = spark.sparkContext.parallelize(num_list)\n",
    "print(result)"
   ]
  },
  {
   "cell_type": "code",
   "execution_count": 57,
   "metadata": {},
   "outputs": [],
   "source": [
    "def sumList(x,y):\n",
    "    print(x,y)\n",
    "    return x+y"
   ]
  },
  {
   "cell_type": "code",
   "execution_count": 58,
   "metadata": {},
   "outputs": [
    {
     "name": "stdout",
     "output_type": "stream",
     "text": [
      "1 5\n",
      "6 2\n",
      "8 7\n",
      "15\n"
     ]
    }
   ],
   "source": [
    "result = result.reduce(lambda x,y: sumList(x,y))\n",
    "print(result)"
   ]
  }
 ],
 "metadata": {
  "kernelspec": {
   "display_name": "Python 3",
   "language": "python",
   "name": "python3"
  },
  "language_info": {
   "codemirror_mode": {
    "name": "ipython",
    "version": 3
   },
   "file_extension": ".py",
   "mimetype": "text/x-python",
   "name": "python",
   "nbconvert_exporter": "python",
   "pygments_lexer": "ipython3",
   "version": "3.7.1"
  }
 },
 "nbformat": 4,
 "nbformat_minor": 2
}
