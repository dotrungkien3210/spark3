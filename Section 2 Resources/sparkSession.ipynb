{
 "cells": [
  {
   "cell_type": "code",
   "execution_count": 1,
   "metadata": {},
   "outputs": [],
   "source": [
    "from pyspark.sql import SparkSession\n",
    "from pyspark.sql.functions import count"
   ]
  },
  {
   "cell_type": "markdown",
   "metadata": {},
   "source": [
    "Dòng 2 khởi tạo một spark session<br>\n",
    "appName: Tên ứng dụng sẽ hiển thị trong spark web UI<br>\n",
    "SparkSession: cải tiến của sparkcontect giúp việc truy vấn sql dễ dàng hơn<br>"
   ]
  },
  {
   "cell_type": "code",
   "execution_count": 2,
   "metadata": {},
   "outputs": [],
   "source": [
    "spark = (SparkSession.builder.appName(\"first spark\").getOrCreate())"
   ]
  },
  {
   "cell_type": "code",
   "execution_count": 3,
   "metadata": {},
   "outputs": [
    {
     "data": {
      "text/plain": [
       "pyspark.sql.session.SparkSession"
      ]
     },
     "execution_count": 3,
     "metadata": {},
     "output_type": "execute_result"
    }
   ],
   "source": [
    "type(spark)"
   ]
  },
  {
   "cell_type": "markdown",
   "metadata": {},
   "source": [
    "Header true thể hiện là dòng đầu tiên của file csv là dòng chứa header <br>\n",
    "n=10 giới hạn số hàng mà ở đây là 10 hàng <br>\n",
    "truncate đảm bảo các dữ liệu sẽ không bị cắt ngắn nội dung dòng có dài cả mặt giấy vẫn in ra bằng hết<br>"
   ]
  },
  {
   "cell_type": "code",
   "execution_count": 4,
   "metadata": {},
   "outputs": [],
   "source": [
    "sales_file = \"sales_records.csv\"\n",
    "sale_df = (spark.read.format(\"csv\").option(\"header\",\"true\").load(sales_file))"
   ]
  },
  {
   "cell_type": "code",
   "execution_count": 5,
   "metadata": {},
   "outputs": [
    {
     "name": "stdout",
     "output_type": "stream",
     "text": [
      "+---------------------------------+---------------------+---------+\n",
      "|Region                           |Country              |Order ID |\n",
      "+---------------------------------+---------------------+---------+\n",
      "|Middle East and North Africa     |Azerbaijan           |535113847|\n",
      "|Central America and the Caribbean|Panama               |874708545|\n",
      "|Sub-Saharan Africa               |Sao Tome and Principe|854349935|\n",
      "|Sub-Saharan Africa               |Sao Tome and Principe|892836844|\n",
      "|Central America and the Caribbean|Belize               |129280602|\n",
      "|Europe                           |Denmark              |473105037|\n",
      "|Europe                           |Germany              |754046475|\n",
      "|Middle East and North Africa     |Turkey               |772153747|\n",
      "|Europe                           |United Kingdom       |847788178|\n",
      "|Asia                             |Kazakhstan           |471623599|\n",
      "+---------------------------------+---------------------+---------+\n",
      "only showing top 10 rows\n",
      "\n"
     ]
    }
   ],
   "source": [
    "sale_df.select(\"Region\",\"Country\",\"Order ID\").show(n=10,truncate = False)"
   ]
  },
  {
   "cell_type": "markdown",
   "metadata": {},
   "source": [
    "tiếp theo sẽ là spark transformation và spark actions<br>\n",
    "spark có 2 loại transformation đó là narrow transformations và wide transformations<br>\n",
    "narrow trans có nghĩa là đầu ra chỉ được tính toán từ một đầu vào duy nhất<br>\n",
    "wide transformation với groupBy và orderBy khiến dữ liệu bị xáo trộn và gộp những dữ liệu giống nhau lại với nhau<br>"
   ]
  },
  {
   "cell_type": "markdown",
   "metadata": {},
   "source": [
    ".groupBy: mà có 2 cột được chọn thì sẽ nhóm các thuộc tính có cả 2 cột đó giống nhau lại và đếm<br>\n",
    ".agg(count()): .agg là aggregation có tác dụng gộp lại còn count thì đến số dùng hợp được gộp lại đó\n",
    ".alias : chúng ta sẽ đếm cột \"Order ID\" và trả lại số lượng đếm được về một cột mới total orders\n",
    ".orderBy sắp  xếp lại theo thứ tự từ lớn tới bé"
   ]
  },
  {
   "cell_type": "code",
   "execution_count": 6,
   "metadata": {},
   "outputs": [
    {
     "data": {
      "text/plain": [
       "pyspark.sql.dataframe.DataFrame"
      ]
     },
     "execution_count": 6,
     "metadata": {},
     "output_type": "execute_result"
    }
   ],
   "source": [
    "type(sale_df)"
   ]
  },
  {
   "cell_type": "code",
   "execution_count": 7,
   "metadata": {},
   "outputs": [
    {
     "name": "stdout",
     "output_type": "stream",
     "text": [
      "+---------------------------------+------------+------------+\n",
      "|Region                           |Country     |Total Orders|\n",
      "+---------------------------------+------------+------------+\n",
      "|Sub-Saharan Africa               |Sudan       |623         |\n",
      "|Australia and Oceania            |New Zealand |593         |\n",
      "|Europe                           |Vatican City|590         |\n",
      "|Sub-Saharan Africa               |Mozambique  |589         |\n",
      "|Europe                           |Malta       |589         |\n",
      "|Middle East and North Africa     |Tunisia     |584         |\n",
      "|Asia                             |Cambodia    |584         |\n",
      "|Central America and the Caribbean|Panama      |578         |\n",
      "|Sub-Saharan Africa               |Rwanda      |576         |\n",
      "|Sub-Saharan Africa               |South Africa|575         |\n",
      "+---------------------------------+------------+------------+\n",
      "only showing top 10 rows\n",
      "\n",
      "total row =  185\n"
     ]
    }
   ],
   "source": [
    "count_sale_df = (sale_df.select(\"Region\",\"Country\",\"Order ID\")\n",
    "                .groupBy(\"Region\",\"Country\").agg(count(\"Order ID\").alias(\"Total Orders\"))\n",
    "                .orderBy(\"Total Orders\",ascending = False))\n",
    "count_sale_df.show(n=10,truncate=False)\n",
    "print(\"total row = \",(count_sale_df.count()))"
   ]
  },
  {
   "cell_type": "markdown",
   "metadata": {},
   "source": [
    "mô hình spark thực thi một cách lười biếng có nghĩa là bạn viết các trans nhưng spark chỉ thực sự chạy khi được gọi <br>\n"
   ]
  }
 ],
 "metadata": {
  "kernelspec": {
   "display_name": "Python 3",
   "language": "python",
   "name": "python3"
  },
  "language_info": {
   "codemirror_mode": {
    "name": "ipython",
    "version": 3
   },
   "file_extension": ".py",
   "mimetype": "text/x-python",
   "name": "python",
   "nbconvert_exporter": "python",
   "pygments_lexer": "ipython3",
   "version": "3.7.1"
  }
 },
 "nbformat": 4,
 "nbformat_minor": 2
}
